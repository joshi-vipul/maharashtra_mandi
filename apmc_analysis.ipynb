{
 "cells": [
  {
   "cell_type": "code",
   "execution_count": 233,
   "metadata": {},
   "outputs": [],
   "source": [
    "import numpy as np\n",
    "import pandas as pd\n",
    "import matplotlib.pyplot as plt\n",
    "import seaborn as sns\n",
    "import datetime\n",
    "from dateutil.relativedelta import relativedelta\n",
    "from datetime import date\n",
    "import scipy.fftpack\n",
    "import scipy as sp\n",
    "%matplotlib inline\n",
    "sns.set()\n",
    "pd.options.mode.use_inf_as_na = True"
   ]
  },
  {
   "cell_type": "code",
   "execution_count": 234,
   "metadata": {},
   "outputs": [
    {
     "data": {
      "text/html": [
       "<div>\n",
       "<style scoped>\n",
       "    .dataframe tbody tr th:only-of-type {\n",
       "        vertical-align: middle;\n",
       "    }\n",
       "\n",
       "    .dataframe tbody tr th {\n",
       "        vertical-align: top;\n",
       "    }\n",
       "\n",
       "    .dataframe thead th {\n",
       "        text-align: right;\n",
       "    }\n",
       "</style>\n",
       "<table border=\"1\" class=\"dataframe\">\n",
       "  <thead>\n",
       "    <tr style=\"text-align: right;\">\n",
       "      <th></th>\n",
       "      <th>Unnamed: 0</th>\n",
       "      <th>APMC</th>\n",
       "      <th>Commodity</th>\n",
       "      <th>Year</th>\n",
       "      <th>Month</th>\n",
       "      <th>arrivals_in_qtl</th>\n",
       "      <th>min_price</th>\n",
       "      <th>max_price</th>\n",
       "      <th>modal_price</th>\n",
       "      <th>date</th>\n",
       "      <th>fluctuation</th>\n",
       "    </tr>\n",
       "  </thead>\n",
       "  <tbody>\n",
       "    <tr>\n",
       "      <th>0</th>\n",
       "      <td>0</td>\n",
       "      <td>ahmednagar</td>\n",
       "      <td>bajri</td>\n",
       "      <td>2015</td>\n",
       "      <td>april</td>\n",
       "      <td>79.0</td>\n",
       "      <td>1406.0</td>\n",
       "      <td>1538.0</td>\n",
       "      <td>1463.0</td>\n",
       "      <td>2015-04-01</td>\n",
       "      <td>1.067232</td>\n",
       "    </tr>\n",
       "    <tr>\n",
       "      <th>1</th>\n",
       "      <td>1</td>\n",
       "      <td>akole</td>\n",
       "      <td>bajri</td>\n",
       "      <td>2015</td>\n",
       "      <td>april</td>\n",
       "      <td>52.0</td>\n",
       "      <td>1357.0</td>\n",
       "      <td>1800.0</td>\n",
       "      <td>1525.0</td>\n",
       "      <td>2015-04-01</td>\n",
       "      <td>1.112460</td>\n",
       "    </tr>\n",
       "    <tr>\n",
       "      <th>2</th>\n",
       "      <td>2</td>\n",
       "      <td>jamkhed</td>\n",
       "      <td>bajri</td>\n",
       "      <td>2015</td>\n",
       "      <td>april</td>\n",
       "      <td>164.0</td>\n",
       "      <td>1304.0</td>\n",
       "      <td>1446.0</td>\n",
       "      <td>1375.0</td>\n",
       "      <td>2015-04-01</td>\n",
       "      <td>1.003038</td>\n",
       "    </tr>\n",
       "    <tr>\n",
       "      <th>3</th>\n",
       "      <td>3</td>\n",
       "      <td>kopargaon</td>\n",
       "      <td>bajri</td>\n",
       "      <td>2015</td>\n",
       "      <td>april</td>\n",
       "      <td>354.0</td>\n",
       "      <td>1164.0</td>\n",
       "      <td>1469.0</td>\n",
       "      <td>1401.0</td>\n",
       "      <td>2015-04-01</td>\n",
       "      <td>1.022004</td>\n",
       "    </tr>\n",
       "    <tr>\n",
       "      <th>4</th>\n",
       "      <td>4</td>\n",
       "      <td>newasa</td>\n",
       "      <td>bajri</td>\n",
       "      <td>2015</td>\n",
       "      <td>april</td>\n",
       "      <td>32.0</td>\n",
       "      <td>1282.0</td>\n",
       "      <td>1293.0</td>\n",
       "      <td>1286.0</td>\n",
       "      <td>2015-04-01</td>\n",
       "      <td>0.938114</td>\n",
       "    </tr>\n",
       "  </tbody>\n",
       "</table>\n",
       "</div>"
      ],
      "text/plain": [
       "   Unnamed: 0        APMC Commodity  Year  Month  arrivals_in_qtl  min_price  \\\n",
       "0           0  ahmednagar     bajri  2015  april             79.0     1406.0   \n",
       "1           1       akole     bajri  2015  april             52.0     1357.0   \n",
       "2           2     jamkhed     bajri  2015  april            164.0     1304.0   \n",
       "3           3   kopargaon     bajri  2015  april            354.0     1164.0   \n",
       "4           4      newasa     bajri  2015  april             32.0     1282.0   \n",
       "\n",
       "   max_price  modal_price       date  fluctuation  \n",
       "0     1538.0       1463.0 2015-04-01     1.067232  \n",
       "1     1800.0       1525.0 2015-04-01     1.112460  \n",
       "2     1446.0       1375.0 2015-04-01     1.003038  \n",
       "3     1469.0       1401.0 2015-04-01     1.022004  \n",
       "4     1293.0       1286.0 2015-04-01     0.938114  "
      ]
     },
     "execution_count": 234,
     "metadata": {},
     "output_type": "execute_result"
    }
   ],
   "source": [
    "df = pd.read_csv('after_removing_multiplicative.csv',parse_dates=['date'])\n",
    "df.head()"
   ]
  },
  {
   "cell_type": "code",
   "execution_count": 235,
   "metadata": {},
   "outputs": [
    {
     "data": {
      "text/html": [
       "<div>\n",
       "<style scoped>\n",
       "    .dataframe tbody tr th:only-of-type {\n",
       "        vertical-align: middle;\n",
       "    }\n",
       "\n",
       "    .dataframe tbody tr th {\n",
       "        vertical-align: top;\n",
       "    }\n",
       "\n",
       "    .dataframe thead th {\n",
       "        text-align: right;\n",
       "    }\n",
       "</style>\n",
       "<table border=\"1\" class=\"dataframe\">\n",
       "  <thead>\n",
       "    <tr style=\"text-align: right;\">\n",
       "      <th></th>\n",
       "      <th>APMC</th>\n",
       "      <th>Commodity</th>\n",
       "      <th>Year</th>\n",
       "      <th>Month</th>\n",
       "      <th>arrivals_in_qtl</th>\n",
       "      <th>min_price</th>\n",
       "      <th>max_price</th>\n",
       "      <th>modal_price</th>\n",
       "      <th>date</th>\n",
       "    </tr>\n",
       "  </thead>\n",
       "  <tbody>\n",
       "    <tr>\n",
       "      <th>0</th>\n",
       "      <td>ahmednagar</td>\n",
       "      <td>bajri</td>\n",
       "      <td>2015</td>\n",
       "      <td>april</td>\n",
       "      <td>79.0</td>\n",
       "      <td>1406.0</td>\n",
       "      <td>1538.0</td>\n",
       "      <td>1463.0</td>\n",
       "      <td>2015-04-01</td>\n",
       "    </tr>\n",
       "    <tr>\n",
       "      <th>1</th>\n",
       "      <td>akole</td>\n",
       "      <td>bajri</td>\n",
       "      <td>2015</td>\n",
       "      <td>april</td>\n",
       "      <td>52.0</td>\n",
       "      <td>1357.0</td>\n",
       "      <td>1800.0</td>\n",
       "      <td>1525.0</td>\n",
       "      <td>2015-04-01</td>\n",
       "    </tr>\n",
       "    <tr>\n",
       "      <th>2</th>\n",
       "      <td>jamkhed</td>\n",
       "      <td>bajri</td>\n",
       "      <td>2015</td>\n",
       "      <td>april</td>\n",
       "      <td>164.0</td>\n",
       "      <td>1304.0</td>\n",
       "      <td>1446.0</td>\n",
       "      <td>1375.0</td>\n",
       "      <td>2015-04-01</td>\n",
       "    </tr>\n",
       "    <tr>\n",
       "      <th>3</th>\n",
       "      <td>kopargaon</td>\n",
       "      <td>bajri</td>\n",
       "      <td>2015</td>\n",
       "      <td>april</td>\n",
       "      <td>354.0</td>\n",
       "      <td>1164.0</td>\n",
       "      <td>1469.0</td>\n",
       "      <td>1401.0</td>\n",
       "      <td>2015-04-01</td>\n",
       "    </tr>\n",
       "    <tr>\n",
       "      <th>4</th>\n",
       "      <td>newasa</td>\n",
       "      <td>bajri</td>\n",
       "      <td>2015</td>\n",
       "      <td>april</td>\n",
       "      <td>32.0</td>\n",
       "      <td>1282.0</td>\n",
       "      <td>1293.0</td>\n",
       "      <td>1286.0</td>\n",
       "      <td>2015-04-01</td>\n",
       "    </tr>\n",
       "  </tbody>\n",
       "</table>\n",
       "</div>"
      ],
      "text/plain": [
       "         APMC Commodity  Year  Month  arrivals_in_qtl  min_price  max_price  \\\n",
       "0  ahmednagar     bajri  2015  april             79.0     1406.0     1538.0   \n",
       "1       akole     bajri  2015  april             52.0     1357.0     1800.0   \n",
       "2     jamkhed     bajri  2015  april            164.0     1304.0     1446.0   \n",
       "3   kopargaon     bajri  2015  april            354.0     1164.0     1469.0   \n",
       "4      newasa     bajri  2015  april             32.0     1282.0     1293.0   \n",
       "\n",
       "   modal_price       date  \n",
       "0       1463.0 2015-04-01  \n",
       "1       1525.0 2015-04-01  \n",
       "2       1375.0 2015-04-01  \n",
       "3       1401.0 2015-04-01  \n",
       "4       1286.0 2015-04-01  "
      ]
     },
     "execution_count": 235,
     "metadata": {},
     "output_type": "execute_result"
    }
   ],
   "source": [
    "df.drop(['Unnamed: 0','fluctuation'],axis=1,inplace=True)\n",
    "df.head()\n"
   ]
  },
  {
   "cell_type": "code",
   "execution_count": 236,
   "metadata": {},
   "outputs": [],
   "source": [
    "df.isnull().sum()\n",
    "df.sort_values(by='date',inplace=True)"
   ]
  },
  {
   "cell_type": "markdown",
   "metadata": {},
   "source": [
    "### First, we will get see how the mean of modal price changes with time by finding mean of all the commodities (individually, across all APMC) for each month. \n",
    "### <font color=red> Note: Taking a leap of faith that all the APMCs suffer the same price changes due to various factors e.g. 'drought'</font>"
   ]
  },
  {
   "cell_type": "code",
   "execution_count": 237,
   "metadata": {},
   "outputs": [
    {
     "data": {
      "text/plain": [
       "[<matplotlib.lines.Line2D at 0x27fd915d828>]"
      ]
     },
     "execution_count": 237,
     "metadata": {},
     "output_type": "execute_result"
    },
    {
     "data": {
      "image/png": "[encoded data removed]",
      "text/plain": [
       "<Figure size 432x288 with 1 Axes>"
      ]
     },
     "metadata": {},
     "output_type": "display_data"
    }
   ],
   "source": [
    "pune_gram = df[df['APMC']=='pune']\n",
    "y = pune_gram[pune_gram['Commodity']=='gram']['modal_price'].tolist()\n",
    "x = np.array(pune_gram[pune_gram['Commodity']=='gram']['date'])\n",
    "plt.plot(x,y,'.')"
   ]
  },
  {
   "cell_type": "code",
   "execution_count": 238,
   "metadata": {},
   "outputs": [],
   "source": [
    "def f(x,a,m): return a+np.multiply(m,x)"
   ]
  },
  {
   "cell_type": "code",
   "execution_count": 239,
   "metadata": {},
   "outputs": [],
   "source": [
    "def decompose_trend(df,apmc_name,series_name,commodity_name):\n",
    "    \n",
    "    gh=df[df['APMC']==apmc_name]\n",
    "    gh=gh[gh['Commodity']==commodity_name]\n",
    "    gh = gh['modal_price']\n",
    "    gh.dropna(inplace=True)### this is required because several commoditied dont have an observation for certain dates.\n",
    "    ### so, aggregation makes such poits NaN. however, logically these points may jst be dropped.\n",
    "    days_data = np.arange(0,len(gh))\n",
    "    ydata = np.array(gh)\n",
    "    xdata = days_data\n",
    "    popt, pcov = scipy.optimize.curve_fit(f,xdata,ydata)\n",
    "    residuals = ydata- f(xdata, *popt)\n",
    "    ss_res = np.sum(residuals**2)\n",
    "    ss_tot = np.sum((ydata-np.mean(ydata))**2)\n",
    "    r_squared = 1 - (ss_res / ss_tot)\n",
    "    return [popt[0],popt[1],r_squared]"
   ]
  },
  {
   "cell_type": "code",
   "execution_count": 240,
   "metadata": {},
   "outputs": [],
   "source": [
    "from sklearn.linear_model import LinearRegression\n",
    "lr = LinearRegression()\n"
   ]
  },
  {
   "cell_type": "code",
   "execution_count": 241,
   "metadata": {},
   "outputs": [
    {
     "data": {
      "text/plain": [
       "0.7796521837213685"
      ]
     },
     "execution_count": 241,
     "metadata": {},
     "output_type": "execute_result"
    }
   ],
   "source": [
    "from scipy import stats\n",
    "slope, intercept, r_value, p_value, std_err = stats.linregress(x1,y)\n",
    "line = slope*x1+intercept\n",
    "r_value"
   ]
  },
  {
   "cell_type": "code",
   "execution_count": 242,
   "metadata": {},
   "outputs": [
    {
     "data": {
      "text/plain": [
       "[<matplotlib.lines.Line2D at 0x27fd9737160>]"
      ]
     },
     "execution_count": 242,
     "metadata": {},
     "output_type": "execute_result"
    },
    {
     "data": {
      "image/png": "[encoded data removed]",
      "text/plain": [
       "<Figure size 432x288 with 1 Axes>"
      ]
     },
     "metadata": {},
     "output_type": "display_data"
    }
   ],
   "source": [
    "x1 = np.arange(0,len(y))\n",
    "plt.plot(x,y,'.')\n",
    "plt.plot(x,line,'.')"
   ]
  },
  {
   "cell_type": "markdown",
   "metadata": {},
   "source": [
    "### Examining both, additive and multiplicative seasonality\n",
    "### 1. Additive"
   ]
  },
  {
   "cell_type": "code",
   "execution_count": 268,
   "metadata": {},
   "outputs": [],
   "source": [
    "residuals = y-line"
   ]
  },
  {
   "cell_type": "code",
   "execution_count": null,
   "metadata": {},
   "outputs": [],
   "source": []
  },
  {
   "cell_type": "code",
   "execution_count": 269,
   "metadata": {},
   "outputs": [
    {
     "data": {
      "text/plain": [
       "27"
      ]
     },
     "execution_count": 269,
     "metadata": {},
     "output_type": "execute_result"
    }
   ],
   "source": [
    "len(residuals)"
   ]
  },
  {
   "cell_type": "code",
   "execution_count": 270,
   "metadata": {},
   "outputs": [],
   "source": [
    "fo = np.split(residuals,9)"
   ]
  },
  {
   "cell_type": "code",
   "execution_count": 271,
   "metadata": {},
   "outputs": [
    {
     "name": "stdout",
     "output_type": "stream",
     "text": [
      "1086.8500203500205 \t 1162.4407513223816\n",
      "-434.4411884411882 \t 60.13014755575817\n",
      "-502.39906389906383 \t 156.5578016829183\n",
      "239.30972730972766 \t 484.7914389138716\n",
      "-16.64814814814781 \t 129.88102054003946\n",
      "-839.9393569393573 \t 405.86650714374593\n",
      "-1081.2305657305653 \t 330.7008383637503\n",
      "936.8115588115592 \t 559.8051565663322\n",
      "611.6870166870167 \t 2242.4201096669844\n"
     ]
    }
   ],
   "source": [
    "means = []\n",
    "stds   = []\n",
    "for i in range(0,len(fo)):\n",
    "    means.append(fo[i].mean())\n",
    "    stds.append(fo[i].std())\n",
    "    print(means[i],'\\t',stds[i])"
   ]
  },
  {
   "cell_type": "code",
   "execution_count": 272,
   "metadata": {},
   "outputs": [
    {
     "data": {
      "text/plain": [
       "[<matplotlib.lines.Line2D at 0x27fd9af7ac8>]"
      ]
     },
     "execution_count": 272,
     "metadata": {},
     "output_type": "execute_result"
    },
    {
     "data": {
      "image/png": "[encoded data removed]",
      "text/plain": [
       "<Figure size 432x288 with 1 Axes>"
      ]
     },
     "metadata": {},
     "output_type": "display_data"
    }
   ],
   "source": [
    "residuals = y/line\n",
    "plt.plot(residuals)"
   ]
  },
  {
   "cell_type": "code",
   "execution_count": 273,
   "metadata": {},
   "outputs": [
    {
     "name": "stdout",
     "output_type": "stream",
     "text": [
      "1086.8500203500205 \t 1162.4407513223816\n",
      "-434.4411884411882 \t 60.13014755575817\n",
      "-502.39906389906383 \t 156.5578016829183\n",
      "239.30972730972766 \t 484.7914389138716\n",
      "-16.64814814814781 \t 129.88102054003946\n",
      "-839.9393569393573 \t 405.86650714374593\n",
      "-1081.2305657305653 \t 330.7008383637503\n",
      "936.8115588115592 \t 559.8051565663322\n",
      "611.6870166870167 \t 2242.4201096669844\n"
     ]
    }
   ],
   "source": [
    "means = []\n",
    "stds   = []\n",
    "for i in range(0,len(fo)):\n",
    "    means.append(fo[i].mean())\n",
    "    stds.append(fo[i].std())\n",
    "    print(means[i],'\\t',stds[i])"
   ]
  },
  {
   "cell_type": "code",
   "execution_count": null,
   "metadata": {},
   "outputs": [],
   "source": []
  }
 ],
 "metadata": {
  "kernelspec": {
   "display_name": "Python 3",
   "language": "python",
   "name": "python3"
  },
  "language_info": {
   "codemirror_mode": {
    "name": "ipython",
    "version": 3
   },
   "file_extension": ".py",
   "mimetype": "text/x-python",
   "name": "python",
   "nbconvert_exporter": "python",
   "pygments_lexer": "ipython3",
   "version": "3.7.1"
  }
 },
 "nbformat": 4,
 "nbformat_minor": 2
}
