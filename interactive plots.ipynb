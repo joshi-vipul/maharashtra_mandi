{
 "cells": [
  {
   "cell_type": "code",
   "execution_count": 40,
   "metadata": {},
   "outputs": [],
   "source": [
    "import datetime\n",
    "import numpy as np\n",
    "import pandas as pd\n",
    "import plotly.graph_objs as go\n",
    "import plotly.plotly as py\n",
    "\n",
    "from ipywidgets import widgets\n",
    "from IPython.display import display, clear_output, Image\n",
    "from plotly.widgets import GraphWidget\n",
    "import plotly\n"
   ]
  },
  {
   "cell_type": "code",
   "execution_count": 41,
   "metadata": {},
   "outputs": [],
   "source": [
    "df = pd.read_csv('clean.csv',parse_dates=['date'])"
   ]
  },
  {
   "cell_type": "code",
   "execution_count": 42,
   "metadata": {},
   "outputs": [
    {
     "data": {
      "text/html": [
       "<script type=\"text/javascript\">window.PlotlyConfig = {MathJaxConfig: 'local'};</script><script type=\"text/javascript\">if (window.MathJax) {MathJax.Hub.Config({SVG: {font: \"STIX-Web\"}});}</script><script>requirejs.config({paths: { 'plotly': ['https://cdn.plot.ly/plotly-latest.min']},});if(!window._Plotly) {require(['plotly'],function(plotly) {window._Plotly=plotly;});}</script>"
      ],
      "text/vnd.plotly.v1+html": [
       "<script type=\"text/javascript\">window.PlotlyConfig = {MathJaxConfig: 'local'};</script><script type=\"text/javascript\">if (window.MathJax) {MathJax.Hub.Config({SVG: {font: \"STIX-Web\"}});}</script><script>requirejs.config({paths: { 'plotly': ['https://cdn.plot.ly/plotly-latest.min']},});if(!window._Plotly) {require(['plotly'],function(plotly) {window._Plotly=plotly;});}</script>"
      ]
     },
     "metadata": {},
     "output_type": "display_data"
    }
   ],
   "source": [
    "plotly.offline.init_notebook_mode(connected=True)\n"
   ]
  },
  {
   "cell_type": "code",
   "execution_count": 43,
   "metadata": {},
   "outputs": [
    {
     "data": {
      "text/html": [
       "<div>\n",
       "<style scoped>\n",
       "    .dataframe tbody tr th:only-of-type {\n",
       "        vertical-align: middle;\n",
       "    }\n",
       "\n",
       "    .dataframe tbody tr th {\n",
       "        vertical-align: top;\n",
       "    }\n",
       "\n",
       "    .dataframe thead th {\n",
       "        text-align: right;\n",
       "    }\n",
       "</style>\n",
       "<table border=\"1\" class=\"dataframe\">\n",
       "  <thead>\n",
       "    <tr style=\"text-align: right;\">\n",
       "      <th></th>\n",
       "      <th>Unnamed: 0</th>\n",
       "      <th>APMC</th>\n",
       "      <th>Commodity</th>\n",
       "      <th>Year</th>\n",
       "      <th>Month</th>\n",
       "      <th>arrivals_in_qtl</th>\n",
       "      <th>min_price</th>\n",
       "      <th>max_price</th>\n",
       "      <th>modal_price</th>\n",
       "      <th>date</th>\n",
       "      <th>district_name</th>\n",
       "    </tr>\n",
       "  </thead>\n",
       "  <tbody>\n",
       "    <tr>\n",
       "      <th>0</th>\n",
       "      <td>0</td>\n",
       "      <td>ahmednagar</td>\n",
       "      <td>bajri</td>\n",
       "      <td>2015</td>\n",
       "      <td>April</td>\n",
       "      <td>79.0</td>\n",
       "      <td>1406.0</td>\n",
       "      <td>1538.0</td>\n",
       "      <td>1463.0</td>\n",
       "      <td>2015-04-01</td>\n",
       "      <td>Ahmadnagar</td>\n",
       "    </tr>\n",
       "    <tr>\n",
       "      <th>1</th>\n",
       "      <td>1</td>\n",
       "      <td>ahmednagar</td>\n",
       "      <td>bajri</td>\n",
       "      <td>2016</td>\n",
       "      <td>April</td>\n",
       "      <td>106.0</td>\n",
       "      <td>1788.0</td>\n",
       "      <td>1925.0</td>\n",
       "      <td>1875.0</td>\n",
       "      <td>2016-04-01</td>\n",
       "      <td>Ahmadnagar</td>\n",
       "    </tr>\n",
       "    <tr>\n",
       "      <th>2</th>\n",
       "      <td>2</td>\n",
       "      <td>ahmednagar</td>\n",
       "      <td>wheat(husked)</td>\n",
       "      <td>2015</td>\n",
       "      <td>April</td>\n",
       "      <td>1253.0</td>\n",
       "      <td>1572.0</td>\n",
       "      <td>1890.0</td>\n",
       "      <td>1731.0</td>\n",
       "      <td>2015-04-01</td>\n",
       "      <td>Ahmadnagar</td>\n",
       "    </tr>\n",
       "    <tr>\n",
       "      <th>3</th>\n",
       "      <td>3</td>\n",
       "      <td>ahmednagar</td>\n",
       "      <td>wheat(husked)</td>\n",
       "      <td>2016</td>\n",
       "      <td>April</td>\n",
       "      <td>387.0</td>\n",
       "      <td>1750.0</td>\n",
       "      <td>2220.0</td>\n",
       "      <td>1999.0</td>\n",
       "      <td>2016-04-01</td>\n",
       "      <td>Ahmadnagar</td>\n",
       "    </tr>\n",
       "    <tr>\n",
       "      <th>4</th>\n",
       "      <td>4</td>\n",
       "      <td>ahmednagar</td>\n",
       "      <td>sorgum(jawar)</td>\n",
       "      <td>2015</td>\n",
       "      <td>April</td>\n",
       "      <td>3825.0</td>\n",
       "      <td>1600.0</td>\n",
       "      <td>2200.0</td>\n",
       "      <td>1900.0</td>\n",
       "      <td>2015-04-01</td>\n",
       "      <td>Ahmadnagar</td>\n",
       "    </tr>\n",
       "  </tbody>\n",
       "</table>\n",
       "</div>"
      ],
      "text/plain": [
       "   Unnamed: 0        APMC      Commodity  Year  Month  arrivals_in_qtl  \\\n",
       "0           0  ahmednagar          bajri  2015  April             79.0   \n",
       "1           1  ahmednagar          bajri  2016  April            106.0   \n",
       "2           2  ahmednagar  wheat(husked)  2015  April           1253.0   \n",
       "3           3  ahmednagar  wheat(husked)  2016  April            387.0   \n",
       "4           4  ahmednagar  sorgum(jawar)  2015  April           3825.0   \n",
       "\n",
       "   min_price  max_price  modal_price       date district_name  \n",
       "0     1406.0     1538.0       1463.0 2015-04-01    Ahmadnagar  \n",
       "1     1788.0     1925.0       1875.0 2016-04-01    Ahmadnagar  \n",
       "2     1572.0     1890.0       1731.0 2015-04-01    Ahmadnagar  \n",
       "3     1750.0     2220.0       1999.0 2016-04-01    Ahmadnagar  \n",
       "4     1600.0     2200.0       1900.0 2015-04-01    Ahmadnagar  "
      ]
     },
     "execution_count": 43,
     "metadata": {},
     "output_type": "execute_result"
    }
   ],
   "source": [
    "df.head()"
   ]
  },
  {
   "cell_type": "code",
   "execution_count": 44,
   "metadata": {},
   "outputs": [],
   "source": [
    "df.drop('Unnamed: 0',axis=1,inplace=True)\n",
    "df.sort_values(by='date',inplace=True)"
   ]
  },
  {
   "cell_type": "code",
   "execution_count": 45,
   "metadata": {},
   "outputs": [],
   "source": [
    "#month = widgets.IntSlider(value=1.0, min=1.0,max=12.0,step=1.0,description='month ',continuous_update=False)\n",
    "year  = widgets.IntSlider(value=2014,min=2014,max=2016,step=1.0,description='year ',continuous_update=True)\n",
    "use_date = widgets.Checkbox(description='Date: ',value=True)"
   ]
  },
  {
   "cell_type": "code",
   "execution_count": 46,
   "metadata": {},
   "outputs": [],
   "source": [
    "container = widgets.VBox(children=[use_date,year])"
   ]
  },
  {
   "cell_type": "code",
   "execution_count": 47,
   "metadata": {},
   "outputs": [],
   "source": [
    "commodity = widgets.Dropdown(description='Commodity:   ',value='onion', options=df['Commodity'].sort_values().unique().tolist())\n",
    "apmc = widgets.Dropdown(options = list(df['APMC'].sort_values().unique()),value='pune',description='APMC name: ')\n",
    "g = GraphWidget('https://plot.ly/~vipuljoshi92/19')"
   ]
  },
  {
   "cell_type": "code",
   "execution_count": 48,
   "metadata": {},
   "outputs": [],
   "source": [
    "trace1 = go.Scatter(x=df['date'],y=df['min_price'],name='Minimum Price')\n",
    "trace2 = go.Scatter(x=df['date'],y=df['modal_price'],name='Modal Price')\n",
    "trace3 = go.Scatter(x=df['date'],y=df['max_price'],name='Maximum Price')\n",
    "\n",
    "g = go.FigureWidget(data=[trace1, trace2,trace3],\n",
    "                    layout=go.Layout(\n",
    "                        title=dict(\n",
    "                            text='Maharashtra Mandi Database'\n",
    "                        )\n",
    "                    ))"
   ]
  },
  {
   "cell_type": "code",
   "execution_count": 49,
   "metadata": {},
   "outputs": [],
   "source": [
    "def validate():\n",
    "    if commodity.value in df['Commodity'].unique() and apmc.value in df['APMC'].unique():\n",
    "        return True\n",
    "    else:\n",
    "        return False\n",
    "\n",
    "\n",
    "def response(change):\n",
    "    if validate():\n",
    "        if use_date.value:\n",
    "            filter_list = [i and j and k for i, j, k in\n",
    "                           zip(df['Commodity'] == commodity.value,\n",
    "                               df['APMC'] == apmc.value,\n",
    "                               df['Year'] == year.value)]\n",
    "            temp_df = df[filter_list]\n",
    "            x1 = temp_df['date']\n",
    "            x2 = x1\n",
    "            x3 = x1\n",
    "            y1 = temp_df['min_price']\n",
    "            y2 = temp_df['modal_price']\n",
    "            y3 = temp_df['max_price']\n",
    "            \n",
    "        else:\n",
    "            filter_list = [i and j for i, j in\n",
    "                           zip(df['APMC'] == 'pune', df['Commodity'] == commodity.value)]\n",
    "            temp_df = df[filter_list]\n",
    "            x1 = temp_df['date']\n",
    "            x2 = x1\n",
    "            x3 = x1\n",
    "            y1 = temp_df['min_price']\n",
    "            y2 = temp_df['modal_price']\n",
    "            y3 = temp_df['max_price']\n",
    "            \n",
    "        with g.batch_update():\n",
    "            g.data[0].x = x1\n",
    "            g.data[1].x = x1\n",
    "            g.data[2].x = x1\n",
    "            g.data[0].y = y1\n",
    "            g.data[1].y = y2\n",
    "            g.data[2].y = y3\n",
    "            g.layout.xaxis.title = 'Date'\n",
    "            g.layout.yaxis.title = 'Price'\n",
    "            #g.barmode='overlay'\n",
    "\n",
    "year.observe(response, names=\"value\")\n",
    "commodity.observe(response, names=\"value\")\n",
    "apmc.observe(response, names=\"value\")\n",
    "use_date.observe(response, names=\"value\")"
   ]
  },
  {
   "cell_type": "code",
   "execution_count": 50,
   "metadata": {},
   "outputs": [],
   "source": [
    "container2 = widgets.HBox([apmc,commodity])"
   ]
  },
  {
   "cell_type": "code",
   "execution_count": 51,
   "metadata": {},
   "outputs": [
    {
     "data": {
      "application/vnd.jupyter.widget-view+json": {
       "model_id": "8413978703dd4ec097627fd807bb7ecd",
       "version_major": 2,
       "version_minor": 0
      },
      "text/plain": [
       "VBox(children=(Checkbox(value=True, description='Date: '), IntSlider(value=2014, description='year ', max=2016…"
      ]
     },
     "metadata": {},
     "output_type": "display_data"
    },
    {
     "data": {
      "application/vnd.jupyter.widget-view+json": {
       "model_id": "a847929ace15451ea63e7d61be71ad4e",
       "version_major": 2,
       "version_minor": 0
      },
      "text/plain": [
       "HBox(children=(Dropdown(description='APMC name: ', index=256, options=('aamgaon', 'aarni', 'achalpur', 'aheri'…"
      ]
     },
     "metadata": {},
     "output_type": "display_data"
    },
    {
     "data": {
      "application/vnd.jupyter.widget-view+json": {
       "model_id": "eab061358dd645d2bfa9658bbcf6fb34",
       "version_major": 2,
       "version_minor": 0
      },
      "text/plain": [
       "FigureWidget({\n",
       "    'data': [{'name': 'Minimum Price',\n",
       "              'type': 'scatter',\n",
       "              'uid': '8…"
      ]
     },
     "metadata": {},
     "output_type": "display_data"
    }
   ],
   "source": [
    "display(container)\n",
    "display(container2)\n",
    "display(g)"
   ]
  },
  {
   "cell_type": "code",
   "execution_count": null,
   "metadata": {},
   "outputs": [],
   "source": []
  }
 ],
 "metadata": {
  "kernelspec": {
   "display_name": "Python 3",
   "language": "python",
   "name": "python3"
  },
  "language_info": {
   "codemirror_mode": {
    "name": "ipython",
    "version": 3
   },
   "file_extension": ".py",
   "mimetype": "text/x-python",
   "name": "python",
   "nbconvert_exporter": "python",
   "pygments_lexer": "ipython3",
   "version": "3.7.0"
  }
 },
 "nbformat": 4,
 "nbformat_minor": 2
}
