{
 "cells": [
  {
   "cell_type": "code",
   "execution_count": 1,
   "metadata": {},
   "outputs": [],
   "source": [
    "import numpy as np\n",
    "import pandas as pd\n",
    "import matplotlib.pyplot as plt\n",
    "import seaborn as sns\n",
    "import datetime\n",
    "from dateutil.relativedelta import relativedelta\n",
    "from datetime import date\n",
    "import scipy.fftpack\n",
    "import scipy as sp\n",
    "%matplotlib inline\n",
    "sns.set()"
   ]
  },
  {
   "cell_type": "code",
   "execution_count": 2,
   "metadata": {},
   "outputs": [
    {
     "data": {
      "text/html": [
       "<div>\n",
       "<style scoped>\n",
       "    .dataframe tbody tr th:only-of-type {\n",
       "        vertical-align: middle;\n",
       "    }\n",
       "\n",
       "    .dataframe tbody tr th {\n",
       "        vertical-align: top;\n",
       "    }\n",
       "\n",
       "    .dataframe thead th {\n",
       "        text-align: right;\n",
       "    }\n",
       "</style>\n",
       "<table border=\"1\" class=\"dataframe\">\n",
       "  <thead>\n",
       "    <tr style=\"text-align: right;\">\n",
       "      <th></th>\n",
       "      <th>Unnamed: 0</th>\n",
       "      <th>APMC</th>\n",
       "      <th>Commodity</th>\n",
       "      <th>Year</th>\n",
       "      <th>Month</th>\n",
       "      <th>arrivals_in_qtl</th>\n",
       "      <th>min_price</th>\n",
       "      <th>max_price</th>\n",
       "      <th>modal_price</th>\n",
       "      <th>date</th>\n",
       "      <th>district_name</th>\n",
       "    </tr>\n",
       "  </thead>\n",
       "  <tbody>\n",
       "    <tr>\n",
       "      <th>0</th>\n",
       "      <td>0</td>\n",
       "      <td>ahmednagar</td>\n",
       "      <td>bajri</td>\n",
       "      <td>2015</td>\n",
       "      <td>april</td>\n",
       "      <td>79.0</td>\n",
       "      <td>1406.0</td>\n",
       "      <td>1538.0</td>\n",
       "      <td>1463.0</td>\n",
       "      <td>2015-04-01</td>\n",
       "      <td>ahmadnagar</td>\n",
       "    </tr>\n",
       "    <tr>\n",
       "      <th>1</th>\n",
       "      <td>1</td>\n",
       "      <td>ahmednagar</td>\n",
       "      <td>bajri</td>\n",
       "      <td>2016</td>\n",
       "      <td>april</td>\n",
       "      <td>106.0</td>\n",
       "      <td>1788.0</td>\n",
       "      <td>1925.0</td>\n",
       "      <td>1875.0</td>\n",
       "      <td>2016-04-01</td>\n",
       "      <td>ahmadnagar</td>\n",
       "    </tr>\n",
       "    <tr>\n",
       "      <th>2</th>\n",
       "      <td>2</td>\n",
       "      <td>ahmednagar</td>\n",
       "      <td>wheat(husked)</td>\n",
       "      <td>2015</td>\n",
       "      <td>april</td>\n",
       "      <td>1253.0</td>\n",
       "      <td>1572.0</td>\n",
       "      <td>1890.0</td>\n",
       "      <td>1731.0</td>\n",
       "      <td>2015-04-01</td>\n",
       "      <td>ahmadnagar</td>\n",
       "    </tr>\n",
       "    <tr>\n",
       "      <th>3</th>\n",
       "      <td>3</td>\n",
       "      <td>ahmednagar</td>\n",
       "      <td>wheat(husked)</td>\n",
       "      <td>2016</td>\n",
       "      <td>april</td>\n",
       "      <td>387.0</td>\n",
       "      <td>1750.0</td>\n",
       "      <td>2220.0</td>\n",
       "      <td>1999.0</td>\n",
       "      <td>2016-04-01</td>\n",
       "      <td>ahmadnagar</td>\n",
       "    </tr>\n",
       "    <tr>\n",
       "      <th>4</th>\n",
       "      <td>4</td>\n",
       "      <td>ahmednagar</td>\n",
       "      <td>sorgum(jawar)</td>\n",
       "      <td>2015</td>\n",
       "      <td>april</td>\n",
       "      <td>3825.0</td>\n",
       "      <td>1600.0</td>\n",
       "      <td>2200.0</td>\n",
       "      <td>1900.0</td>\n",
       "      <td>2015-04-01</td>\n",
       "      <td>ahmadnagar</td>\n",
       "    </tr>\n",
       "  </tbody>\n",
       "</table>\n",
       "</div>"
      ],
      "text/plain": [
       "   Unnamed: 0        APMC      Commodity  Year  Month  arrivals_in_qtl  \\\n",
       "0           0  ahmednagar          bajri  2015  april             79.0   \n",
       "1           1  ahmednagar          bajri  2016  april            106.0   \n",
       "2           2  ahmednagar  wheat(husked)  2015  april           1253.0   \n",
       "3           3  ahmednagar  wheat(husked)  2016  april            387.0   \n",
       "4           4  ahmednagar  sorgum(jawar)  2015  april           3825.0   \n",
       "\n",
       "   min_price  max_price  modal_price       date district_name  \n",
       "0     1406.0     1538.0       1463.0 2015-04-01    ahmadnagar  \n",
       "1     1788.0     1925.0       1875.0 2016-04-01    ahmadnagar  \n",
       "2     1572.0     1890.0       1731.0 2015-04-01    ahmadnagar  \n",
       "3     1750.0     2220.0       1999.0 2016-04-01    ahmadnagar  \n",
       "4     1600.0     2200.0       1900.0 2015-04-01    ahmadnagar  "
      ]
     },
     "execution_count": 2,
     "metadata": {},
     "output_type": "execute_result"
    }
   ],
   "source": [
    "df = pd.read_csv('clean.csv',parse_dates=['date'])\n",
    "df.head()"
   ]
  },
  {
   "cell_type": "code",
   "execution_count": 3,
   "metadata": {},
   "outputs": [
    {
     "data": {
      "text/html": [
       "<div>\n",
       "<style scoped>\n",
       "    .dataframe tbody tr th:only-of-type {\n",
       "        vertical-align: middle;\n",
       "    }\n",
       "\n",
       "    .dataframe tbody tr th {\n",
       "        vertical-align: top;\n",
       "    }\n",
       "\n",
       "    .dataframe thead th {\n",
       "        text-align: right;\n",
       "    }\n",
       "</style>\n",
       "<table border=\"1\" class=\"dataframe\">\n",
       "  <thead>\n",
       "    <tr style=\"text-align: right;\">\n",
       "      <th></th>\n",
       "      <th>APMC</th>\n",
       "      <th>Commodity</th>\n",
       "      <th>Year</th>\n",
       "      <th>Month</th>\n",
       "      <th>arrivals_in_qtl</th>\n",
       "      <th>min_price</th>\n",
       "      <th>max_price</th>\n",
       "      <th>modal_price</th>\n",
       "      <th>date</th>\n",
       "    </tr>\n",
       "  </thead>\n",
       "  <tbody>\n",
       "    <tr>\n",
       "      <th>0</th>\n",
       "      <td>ahmednagar</td>\n",
       "      <td>bajri</td>\n",
       "      <td>2015</td>\n",
       "      <td>april</td>\n",
       "      <td>79.0</td>\n",
       "      <td>1406.0</td>\n",
       "      <td>1538.0</td>\n",
       "      <td>1463.0</td>\n",
       "      <td>2015-04-01</td>\n",
       "    </tr>\n",
       "    <tr>\n",
       "      <th>1</th>\n",
       "      <td>ahmednagar</td>\n",
       "      <td>bajri</td>\n",
       "      <td>2016</td>\n",
       "      <td>april</td>\n",
       "      <td>106.0</td>\n",
       "      <td>1788.0</td>\n",
       "      <td>1925.0</td>\n",
       "      <td>1875.0</td>\n",
       "      <td>2016-04-01</td>\n",
       "    </tr>\n",
       "    <tr>\n",
       "      <th>2</th>\n",
       "      <td>ahmednagar</td>\n",
       "      <td>wheat(husked)</td>\n",
       "      <td>2015</td>\n",
       "      <td>april</td>\n",
       "      <td>1253.0</td>\n",
       "      <td>1572.0</td>\n",
       "      <td>1890.0</td>\n",
       "      <td>1731.0</td>\n",
       "      <td>2015-04-01</td>\n",
       "    </tr>\n",
       "    <tr>\n",
       "      <th>3</th>\n",
       "      <td>ahmednagar</td>\n",
       "      <td>wheat(husked)</td>\n",
       "      <td>2016</td>\n",
       "      <td>april</td>\n",
       "      <td>387.0</td>\n",
       "      <td>1750.0</td>\n",
       "      <td>2220.0</td>\n",
       "      <td>1999.0</td>\n",
       "      <td>2016-04-01</td>\n",
       "    </tr>\n",
       "    <tr>\n",
       "      <th>4</th>\n",
       "      <td>ahmednagar</td>\n",
       "      <td>sorgum(jawar)</td>\n",
       "      <td>2015</td>\n",
       "      <td>april</td>\n",
       "      <td>3825.0</td>\n",
       "      <td>1600.0</td>\n",
       "      <td>2200.0</td>\n",
       "      <td>1900.0</td>\n",
       "      <td>2015-04-01</td>\n",
       "    </tr>\n",
       "  </tbody>\n",
       "</table>\n",
       "</div>"
      ],
      "text/plain": [
       "         APMC      Commodity  Year  Month  arrivals_in_qtl  min_price  \\\n",
       "0  ahmednagar          bajri  2015  april             79.0     1406.0   \n",
       "1  ahmednagar          bajri  2016  april            106.0     1788.0   \n",
       "2  ahmednagar  wheat(husked)  2015  april           1253.0     1572.0   \n",
       "3  ahmednagar  wheat(husked)  2016  april            387.0     1750.0   \n",
       "4  ahmednagar  sorgum(jawar)  2015  april           3825.0     1600.0   \n",
       "\n",
       "   max_price  modal_price       date  \n",
       "0     1538.0       1463.0 2015-04-01  \n",
       "1     1925.0       1875.0 2016-04-01  \n",
       "2     1890.0       1731.0 2015-04-01  \n",
       "3     2220.0       1999.0 2016-04-01  \n",
       "4     2200.0       1900.0 2015-04-01  "
      ]
     },
     "execution_count": 3,
     "metadata": {},
     "output_type": "execute_result"
    }
   ],
   "source": [
    "df.drop(['Unnamed: 0','district_name'],axis=1,inplace=True)\n",
    "df.head()\n"
   ]
  },
  {
   "cell_type": "markdown",
   "metadata": {},
   "source": [
    "### First, we will get see how the mean of modal price changes with time by finding mean of all the commodities (individually, across all APMC) for each month. \n",
    "### <font color=red> Note: Taking a leap of faith that all the APMCs suffer the same price changes due to various factors e.g. 'drought'</font>"
   ]
  },
  {
   "cell_type": "code",
   "execution_count": 4,
   "metadata": {},
   "outputs": [],
   "source": [
    "trendline = pd.pivot_table(df,index='Commodity',columns=['date'],aggfunc='mean')"
   ]
  },
  {
   "cell_type": "code",
   "execution_count": 5,
   "metadata": {},
   "outputs": [
    {
     "data": {
      "text/html": [
       "<div>\n",
       "<style scoped>\n",
       "    .dataframe tbody tr th:only-of-type {\n",
       "        vertical-align: middle;\n",
       "    }\n",
       "\n",
       "    .dataframe tbody tr th {\n",
       "        vertical-align: top;\n",
       "    }\n",
       "\n",
       "    .dataframe thead th {\n",
       "        text-align: right;\n",
       "    }\n",
       "</style>\n",
       "<table border=\"1\" class=\"dataframe\">\n",
       "  <thead>\n",
       "    <tr style=\"text-align: right;\">\n",
       "      <th>date</th>\n",
       "      <th>2014-09-01 00:00:00</th>\n",
       "      <th>2014-10-01 00:00:00</th>\n",
       "      <th>2014-11-01 00:00:00</th>\n",
       "      <th>2014-12-01 00:00:00</th>\n",
       "      <th>2015-01-01 00:00:00</th>\n",
       "      <th>2015-02-01 00:00:00</th>\n",
       "      <th>2015-03-01 00:00:00</th>\n",
       "      <th>2015-04-01 00:00:00</th>\n",
       "      <th>2015-05-01 00:00:00</th>\n",
       "      <th>2015-06-01 00:00:00</th>\n",
       "      <th>...</th>\n",
       "      <th>2016-02-01 00:00:00</th>\n",
       "      <th>2016-03-01 00:00:00</th>\n",
       "      <th>2016-04-01 00:00:00</th>\n",
       "      <th>2016-05-01 00:00:00</th>\n",
       "      <th>2016-06-01 00:00:00</th>\n",
       "      <th>2016-07-01 00:00:00</th>\n",
       "      <th>2016-08-01 00:00:00</th>\n",
       "      <th>2016-09-01 00:00:00</th>\n",
       "      <th>2016-10-01 00:00:00</th>\n",
       "      <th>2016-11-01 00:00:00</th>\n",
       "    </tr>\n",
       "    <tr>\n",
       "      <th>Commodity</th>\n",
       "      <th></th>\n",
       "      <th></th>\n",
       "      <th></th>\n",
       "      <th></th>\n",
       "      <th></th>\n",
       "      <th></th>\n",
       "      <th></th>\n",
       "      <th></th>\n",
       "      <th></th>\n",
       "      <th></th>\n",
       "      <th></th>\n",
       "      <th></th>\n",
       "      <th></th>\n",
       "      <th></th>\n",
       "      <th></th>\n",
       "      <th></th>\n",
       "      <th></th>\n",
       "      <th></th>\n",
       "      <th></th>\n",
       "      <th></th>\n",
       "      <th></th>\n",
       "    </tr>\n",
       "  </thead>\n",
       "  <tbody>\n",
       "    <tr>\n",
       "      <th>amba koy</th>\n",
       "      <td>NaN</td>\n",
       "      <td>NaN</td>\n",
       "      <td>NaN</td>\n",
       "      <td>NaN</td>\n",
       "      <td>NaN</td>\n",
       "      <td>NaN</td>\n",
       "      <td>NaN</td>\n",
       "      <td>NaN</td>\n",
       "      <td>NaN</td>\n",
       "      <td>NaN</td>\n",
       "      <td>...</td>\n",
       "      <td>NaN</td>\n",
       "      <td>NaN</td>\n",
       "      <td>NaN</td>\n",
       "      <td>1500.000000</td>\n",
       "      <td>3750.0</td>\n",
       "      <td>4750.000000</td>\n",
       "      <td>NaN</td>\n",
       "      <td>NaN</td>\n",
       "      <td>NaN</td>\n",
       "      <td>NaN</td>\n",
       "    </tr>\n",
       "    <tr>\n",
       "      <th>ambat chuka</th>\n",
       "      <td>0.000000</td>\n",
       "      <td>136.000000</td>\n",
       "      <td>167.000000</td>\n",
       "      <td>270.000000</td>\n",
       "      <td>0.0</td>\n",
       "      <td>0.0</td>\n",
       "      <td>0.0</td>\n",
       "      <td>196.0</td>\n",
       "      <td>0.0</td>\n",
       "      <td>1350.0</td>\n",
       "      <td>...</td>\n",
       "      <td>0.000000</td>\n",
       "      <td>NaN</td>\n",
       "      <td>193.000000</td>\n",
       "      <td>0.000000</td>\n",
       "      <td>500.0</td>\n",
       "      <td>325.500000</td>\n",
       "      <td>919.25</td>\n",
       "      <td>665.500000</td>\n",
       "      <td>748.000000</td>\n",
       "      <td>1251.0</td>\n",
       "    </tr>\n",
       "    <tr>\n",
       "      <th>amla</th>\n",
       "      <td>1400.000000</td>\n",
       "      <td>1777.000000</td>\n",
       "      <td>1580.000000</td>\n",
       "      <td>1634.000000</td>\n",
       "      <td>1637.5</td>\n",
       "      <td>1800.0</td>\n",
       "      <td>1800.0</td>\n",
       "      <td>NaN</td>\n",
       "      <td>NaN</td>\n",
       "      <td>NaN</td>\n",
       "      <td>...</td>\n",
       "      <td>1275.000000</td>\n",
       "      <td>NaN</td>\n",
       "      <td>NaN</td>\n",
       "      <td>NaN</td>\n",
       "      <td>NaN</td>\n",
       "      <td>NaN</td>\n",
       "      <td>NaN</td>\n",
       "      <td>2500.000000</td>\n",
       "      <td>1700.000000</td>\n",
       "      <td>1500.0</td>\n",
       "    </tr>\n",
       "    <tr>\n",
       "      <th>apple</th>\n",
       "      <td>6342.666667</td>\n",
       "      <td>5922.571429</td>\n",
       "      <td>6042.833333</td>\n",
       "      <td>5164.833333</td>\n",
       "      <td>5544.0</td>\n",
       "      <td>5137.0</td>\n",
       "      <td>6233.6</td>\n",
       "      <td>8497.0</td>\n",
       "      <td>10089.0</td>\n",
       "      <td>10161.0</td>\n",
       "      <td>...</td>\n",
       "      <td>6312.333333</td>\n",
       "      <td>8293.6</td>\n",
       "      <td>9961.444444</td>\n",
       "      <td>8427.181818</td>\n",
       "      <td>10037.2</td>\n",
       "      <td>8936.181818</td>\n",
       "      <td>7276.00</td>\n",
       "      <td>7290.461538</td>\n",
       "      <td>6615.083333</td>\n",
       "      <td>6905.6</td>\n",
       "    </tr>\n",
       "    <tr>\n",
       "      <th>arvi</th>\n",
       "      <td>2520.500000</td>\n",
       "      <td>2397.500000</td>\n",
       "      <td>2521.000000</td>\n",
       "      <td>2266.500000</td>\n",
       "      <td>2800.0</td>\n",
       "      <td>2622.5</td>\n",
       "      <td>2313.5</td>\n",
       "      <td>2405.5</td>\n",
       "      <td>2149.0</td>\n",
       "      <td>2207.5</td>\n",
       "      <td>...</td>\n",
       "      <td>1885.000000</td>\n",
       "      <td>2135.0</td>\n",
       "      <td>2371.500000</td>\n",
       "      <td>2484.333333</td>\n",
       "      <td>2434.5</td>\n",
       "      <td>2425.000000</td>\n",
       "      <td>2267.00</td>\n",
       "      <td>2043.000000</td>\n",
       "      <td>2006.500000</td>\n",
       "      <td>2010.5</td>\n",
       "    </tr>\n",
       "  </tbody>\n",
       "</table>\n",
       "<p>5 rows × 27 columns</p>\n",
       "</div>"
      ],
      "text/plain": [
       "date          2014-09-01   2014-10-01   2014-11-01   2014-12-01  2015-01-01  \\\n",
       "Commodity                                                                     \n",
       "amba koy             NaN          NaN          NaN          NaN         NaN   \n",
       "ambat chuka     0.000000   136.000000   167.000000   270.000000         0.0   \n",
       "amla         1400.000000  1777.000000  1580.000000  1634.000000      1637.5   \n",
       "apple        6342.666667  5922.571429  6042.833333  5164.833333      5544.0   \n",
       "arvi         2520.500000  2397.500000  2521.000000  2266.500000      2800.0   \n",
       "\n",
       "date         2015-02-01  2015-03-01  2015-04-01  2015-05-01  2015-06-01  \\\n",
       "Commodity                                                                 \n",
       "amba koy            NaN         NaN         NaN         NaN         NaN   \n",
       "ambat chuka         0.0         0.0       196.0         0.0      1350.0   \n",
       "amla             1800.0      1800.0         NaN         NaN         NaN   \n",
       "apple            5137.0      6233.6      8497.0     10089.0     10161.0   \n",
       "arvi             2622.5      2313.5      2405.5      2149.0      2207.5   \n",
       "\n",
       "date            ...       2016-02-01  2016-03-01   2016-04-01   2016-05-01  \\\n",
       "Commodity       ...                                                          \n",
       "amba koy        ...              NaN         NaN          NaN  1500.000000   \n",
       "ambat chuka     ...         0.000000         NaN   193.000000     0.000000   \n",
       "amla            ...      1275.000000         NaN          NaN          NaN   \n",
       "apple           ...      6312.333333      8293.6  9961.444444  8427.181818   \n",
       "arvi            ...      1885.000000      2135.0  2371.500000  2484.333333   \n",
       "\n",
       "date         2016-06-01   2016-07-01  2016-08-01   2016-09-01   2016-10-01  \\\n",
       "Commodity                                                                    \n",
       "amba koy         3750.0  4750.000000         NaN          NaN          NaN   \n",
       "ambat chuka       500.0   325.500000      919.25   665.500000   748.000000   \n",
       "amla                NaN          NaN         NaN  2500.000000  1700.000000   \n",
       "apple           10037.2  8936.181818     7276.00  7290.461538  6615.083333   \n",
       "arvi             2434.5  2425.000000     2267.00  2043.000000  2006.500000   \n",
       "\n",
       "date         2016-11-01  \n",
       "Commodity                \n",
       "amba koy            NaN  \n",
       "ambat chuka      1251.0  \n",
       "amla             1500.0  \n",
       "apple            6905.6  \n",
       "arvi             2010.5  \n",
       "\n",
       "[5 rows x 27 columns]"
      ]
     },
     "execution_count": 5,
     "metadata": {},
     "output_type": "execute_result"
    }
   ],
   "source": [
    "trendline['modal_price'].head()"
   ]
  },
  {
   "cell_type": "markdown",
   "metadata": {},
   "source": [
    "###  Example to use the trendline pivot table to get monthly trendline for any commodity\n",
    "trendline['feature_name'].loc['commodity_name'].plot()"
   ]
  },
  {
   "cell_type": "code",
   "execution_count": 6,
   "metadata": {},
   "outputs": [
    {
     "data": {
      "text/plain": [
       "<matplotlib.legend.Legend at 0x25333698390>"
      ]
     },
     "execution_count": 6,
     "metadata": {},
     "output_type": "execute_result"
    },
    {
     "data": {
      "image/png": "[encoded data removed]",
      "text/plain": [
       "<Figure size 720x504 with 1 Axes>"
      ]
     },
     "metadata": {
      "needs_background": "light"
     },
     "output_type": "display_data"
    }
   ],
   "source": [
    "plt.figure(figsize=(10,7))\n",
    "trendline['max_price'].loc['gram'].plot()\n",
    "trendline['modal_price'].loc['gram'].plot()\n",
    "trendline['min_price'].loc['gram'].plot()\n",
    "plt.title('Trendline for gram')\n",
    "plt.ylabel('Mean Value')\n",
    "plt.legend(['max','modal','min'])"
   ]
  },
  {
   "cell_type": "code",
   "execution_count": 7,
   "metadata": {},
   "outputs": [
    {
     "data": {
      "text/plain": [
       "<matplotlib.legend.Legend at 0x253337f3860>"
      ]
     },
     "execution_count": 7,
     "metadata": {},
     "output_type": "execute_result"
    },
    {
     "data": {
      "image/png": "[encoded data removed]",
      "text/plain": [
       "<Figure size 720x504 with 1 Axes>"
      ]
     },
     "metadata": {
      "needs_background": "light"
     },
     "output_type": "display_data"
    }
   ],
   "source": [
    "plt.figure(figsize=(10,7))\n",
    "trendline['max_price'].loc['soybean'].plot()\n",
    "trendline['modal_price'].loc['soybean'].plot()\n",
    "trendline['min_price'].loc['soybean'].plot()\n",
    "plt.legend(['max','modal','min'])"
   ]
  },
  {
   "cell_type": "markdown",
   "metadata": {},
   "source": [
    "### The above two plots show that a generalization cannot be made about the trend for different commodity\n",
    "### Mean values generated in the previous stage will be used to remove trend from the data.\n",
    "### $f(t) = trend(t)*seasonal(t)* other \\,components (t)$"
   ]
  },
  {
   "cell_type": "code",
   "execution_count": 8,
   "metadata": {},
   "outputs": [],
   "source": [
    "monthly_data = df.groupby(['date', 'Commodity'])['modal_price'].mean().reset_index(name='Monthly Average')\n",
    "std_data = df.groupby(['date', 'Commodity'])['modal_price'].std().reset_index(name='Monthly Std')"
   ]
  },
  {
   "cell_type": "code",
   "execution_count": 9,
   "metadata": {},
   "outputs": [],
   "source": [
    "new_df = df.merge(monthly_data,on=['date','Commodity'])\n",
    "new_df = new_df.merge(std_data,on=['date','Commodity'])"
   ]
  },
  {
   "cell_type": "code",
   "execution_count": 10,
   "metadata": {},
   "outputs": [
    {
     "data": {
      "text/html": [
       "<div>\n",
       "<style scoped>\n",
       "    .dataframe tbody tr th:only-of-type {\n",
       "        vertical-align: middle;\n",
       "    }\n",
       "\n",
       "    .dataframe tbody tr th {\n",
       "        vertical-align: top;\n",
       "    }\n",
       "\n",
       "    .dataframe thead th {\n",
       "        text-align: right;\n",
       "    }\n",
       "</style>\n",
       "<table border=\"1\" class=\"dataframe\">\n",
       "  <thead>\n",
       "    <tr style=\"text-align: right;\">\n",
       "      <th></th>\n",
       "      <th>APMC</th>\n",
       "      <th>Commodity</th>\n",
       "      <th>Year</th>\n",
       "      <th>Month</th>\n",
       "      <th>arrivals_in_qtl</th>\n",
       "      <th>min_price</th>\n",
       "      <th>max_price</th>\n",
       "      <th>modal_price</th>\n",
       "      <th>date</th>\n",
       "      <th>Monthly Average</th>\n",
       "      <th>Monthly Std</th>\n",
       "    </tr>\n",
       "  </thead>\n",
       "  <tbody>\n",
       "    <tr>\n",
       "      <th>0</th>\n",
       "      <td>ahmednagar</td>\n",
       "      <td>bajri</td>\n",
       "      <td>2015</td>\n",
       "      <td>april</td>\n",
       "      <td>79.0</td>\n",
       "      <td>1406.0</td>\n",
       "      <td>1538.0</td>\n",
       "      <td>1463.0</td>\n",
       "      <td>2015-04-01</td>\n",
       "      <td>1370.835821</td>\n",
       "      <td>209.379863</td>\n",
       "    </tr>\n",
       "    <tr>\n",
       "      <th>1</th>\n",
       "      <td>akole</td>\n",
       "      <td>bajri</td>\n",
       "      <td>2015</td>\n",
       "      <td>april</td>\n",
       "      <td>52.0</td>\n",
       "      <td>1357.0</td>\n",
       "      <td>1800.0</td>\n",
       "      <td>1525.0</td>\n",
       "      <td>2015-04-01</td>\n",
       "      <td>1370.835821</td>\n",
       "      <td>209.379863</td>\n",
       "    </tr>\n",
       "    <tr>\n",
       "      <th>2</th>\n",
       "      <td>jamkhed</td>\n",
       "      <td>bajri</td>\n",
       "      <td>2015</td>\n",
       "      <td>april</td>\n",
       "      <td>164.0</td>\n",
       "      <td>1304.0</td>\n",
       "      <td>1446.0</td>\n",
       "      <td>1375.0</td>\n",
       "      <td>2015-04-01</td>\n",
       "      <td>1370.835821</td>\n",
       "      <td>209.379863</td>\n",
       "    </tr>\n",
       "    <tr>\n",
       "      <th>3</th>\n",
       "      <td>kopargaon</td>\n",
       "      <td>bajri</td>\n",
       "      <td>2015</td>\n",
       "      <td>april</td>\n",
       "      <td>354.0</td>\n",
       "      <td>1164.0</td>\n",
       "      <td>1469.0</td>\n",
       "      <td>1401.0</td>\n",
       "      <td>2015-04-01</td>\n",
       "      <td>1370.835821</td>\n",
       "      <td>209.379863</td>\n",
       "    </tr>\n",
       "    <tr>\n",
       "      <th>4</th>\n",
       "      <td>newasa</td>\n",
       "      <td>bajri</td>\n",
       "      <td>2015</td>\n",
       "      <td>april</td>\n",
       "      <td>32.0</td>\n",
       "      <td>1282.0</td>\n",
       "      <td>1293.0</td>\n",
       "      <td>1286.0</td>\n",
       "      <td>2015-04-01</td>\n",
       "      <td>1370.835821</td>\n",
       "      <td>209.379863</td>\n",
       "    </tr>\n",
       "  </tbody>\n",
       "</table>\n",
       "</div>"
      ],
      "text/plain": [
       "         APMC Commodity  Year  Month  arrivals_in_qtl  min_price  max_price  \\\n",
       "0  ahmednagar     bajri  2015  april             79.0     1406.0     1538.0   \n",
       "1       akole     bajri  2015  april             52.0     1357.0     1800.0   \n",
       "2     jamkhed     bajri  2015  april            164.0     1304.0     1446.0   \n",
       "3   kopargaon     bajri  2015  april            354.0     1164.0     1469.0   \n",
       "4      newasa     bajri  2015  april             32.0     1282.0     1293.0   \n",
       "\n",
       "   modal_price       date  Monthly Average  Monthly Std  \n",
       "0       1463.0 2015-04-01      1370.835821   209.379863  \n",
       "1       1525.0 2015-04-01      1370.835821   209.379863  \n",
       "2       1375.0 2015-04-01      1370.835821   209.379863  \n",
       "3       1401.0 2015-04-01      1370.835821   209.379863  \n",
       "4       1286.0 2015-04-01      1370.835821   209.379863  "
      ]
     },
     "execution_count": 10,
     "metadata": {},
     "output_type": "execute_result"
    }
   ],
   "source": [
    "new_df.head()"
   ]
  },
  {
   "cell_type": "code",
   "execution_count": 11,
   "metadata": {},
   "outputs": [
    {
     "name": "stderr",
     "output_type": "stream",
     "text": [
      "C:\\Users\\vipul\\Anaconda3\\lib\\site-packages\\ipykernel_launcher.py:2: SettingWithCopyWarning: \n",
      "A value is trying to be set on a copy of a slice from a DataFrame\n",
      "\n",
      "See the caveats in the documentation: http://pandas.pydata.org/pandas-docs/stable/indexing.html#indexing-view-versus-copy\n",
      "  \n"
     ]
    },
    {
     "data": {
      "text/plain": [
       "pandas.core.frame.DataFrame"
      ]
     },
     "execution_count": 11,
     "metadata": {},
     "output_type": "execute_result"
    }
   ],
   "source": [
    "gram = new_df[new_df['Commodity']=='gram']\n",
    "gram.sort_values(by='date',inplace=True)\n",
    "type(gram)"
   ]
  },
  {
   "cell_type": "code",
   "execution_count": 12,
   "metadata": {},
   "outputs": [
    {
     "data": {
      "text/plain": [
       "Text(0.5, 0, 'Date')"
      ]
     },
     "execution_count": 12,
     "metadata": {},
     "output_type": "execute_result"
    },
    {
     "data": {
      "image/png": "[encoded data removed]",
      "text/plain": [
       "<Figure size 720x504 with 1 Axes>"
      ]
     },
     "metadata": {
      "needs_background": "light"
     },
     "output_type": "display_data"
    }
   ],
   "source": [
    "plt.figure(figsize=(10,7))\n",
    "plt.plot(gram['date'],gram['modal_price'],'.')\n",
    "plt.plot(gram['date'],gram['Monthly Average'],'-')\n",
    "plt.plot(gram['date'],gram['Monthly Std'])\n",
    "plt.legend(['modal_price','mean of modal price','std of modal price'])\n",
    "plt.ylabel('modal prices')\n",
    "plt.xlabel('Date')"
   ]
  },
  {
   "cell_type": "code",
   "execution_count": 13,
   "metadata": {},
   "outputs": [],
   "source": [
    "new_df['fluctuation'] = new_df['modal_price']/new_df['Monthly Average']"
   ]
  },
  {
   "cell_type": "code",
   "execution_count": 14,
   "metadata": {},
   "outputs": [
    {
     "data": {
      "text/plain": [
       "<matplotlib.legend.Legend at 0x25333f2a3c8>"
      ]
     },
     "execution_count": 14,
     "metadata": {},
     "output_type": "execute_result"
    },
    {
     "data": {
      "image/png": "[encoded data removed]",
      "text/plain": [
       "<Figure size 720x504 with 1 Axes>"
      ]
     },
     "metadata": {
      "needs_background": "light"
     },
     "output_type": "display_data"
    }
   ],
   "source": [
    "plt.figure(figsize=(10,7))\n",
    "plt.plot(new_df[new_df['Commodity']=='gram']['date'],new_df[new_df['Commodity']=='gram']['fluctuation'],'.')\n",
    "plt.legend(['residuals'])"
   ]
  },
  {
   "cell_type": "markdown",
   "metadata": {},
   "source": [
    "### The above process helped to remove the trend and have a zero mean. \n",
    "### Re-assessing the mean and standard deviation after trend removal"
   ]
  },
  {
   "cell_type": "code",
   "execution_count": 15,
   "metadata": {},
   "outputs": [],
   "source": [
    "fluctuation_mean = new_df.groupby(['date', 'Commodity'])['fluctuation'].mean().reset_index(name='Fluctuation_Mean')\n",
    "fluctuation_std = new_df.groupby(['date', 'Commodity'])['fluctuation'].std().reset_index(name='Fluctuation_Std')"
   ]
  },
  {
   "cell_type": "code",
   "execution_count": 16,
   "metadata": {},
   "outputs": [],
   "source": [
    "new_df = new_df.merge(fluctuation_mean,on=['date','Commodity'])\n",
    "new_df = new_df.merge(fluctuation_std,on=['date','Commodity'])"
   ]
  },
  {
   "cell_type": "code",
   "execution_count": 17,
   "metadata": {},
   "outputs": [
    {
     "data": {
      "text/html": [
       "<div>\n",
       "<style scoped>\n",
       "    .dataframe tbody tr th:only-of-type {\n",
       "        vertical-align: middle;\n",
       "    }\n",
       "\n",
       "    .dataframe tbody tr th {\n",
       "        vertical-align: top;\n",
       "    }\n",
       "\n",
       "    .dataframe thead th {\n",
       "        text-align: right;\n",
       "    }\n",
       "</style>\n",
       "<table border=\"1\" class=\"dataframe\">\n",
       "  <thead>\n",
       "    <tr style=\"text-align: right;\">\n",
       "      <th></th>\n",
       "      <th>APMC</th>\n",
       "      <th>Commodity</th>\n",
       "      <th>Year</th>\n",
       "      <th>Month</th>\n",
       "      <th>arrivals_in_qtl</th>\n",
       "      <th>min_price</th>\n",
       "      <th>max_price</th>\n",
       "      <th>modal_price</th>\n",
       "      <th>date</th>\n",
       "      <th>Monthly Average</th>\n",
       "      <th>Monthly Std</th>\n",
       "      <th>fluctuation</th>\n",
       "      <th>Fluctuation_Mean</th>\n",
       "      <th>Fluctuation_Std</th>\n",
       "    </tr>\n",
       "  </thead>\n",
       "  <tbody>\n",
       "    <tr>\n",
       "      <th>0</th>\n",
       "      <td>ahmednagar</td>\n",
       "      <td>bajri</td>\n",
       "      <td>2015</td>\n",
       "      <td>april</td>\n",
       "      <td>79.0</td>\n",
       "      <td>1406.0</td>\n",
       "      <td>1538.0</td>\n",
       "      <td>1463.0</td>\n",
       "      <td>2015-04-01</td>\n",
       "      <td>1370.835821</td>\n",
       "      <td>209.379863</td>\n",
       "      <td>1.067232</td>\n",
       "      <td>1.0</td>\n",
       "      <td>0.152739</td>\n",
       "    </tr>\n",
       "    <tr>\n",
       "      <th>1</th>\n",
       "      <td>akole</td>\n",
       "      <td>bajri</td>\n",
       "      <td>2015</td>\n",
       "      <td>april</td>\n",
       "      <td>52.0</td>\n",
       "      <td>1357.0</td>\n",
       "      <td>1800.0</td>\n",
       "      <td>1525.0</td>\n",
       "      <td>2015-04-01</td>\n",
       "      <td>1370.835821</td>\n",
       "      <td>209.379863</td>\n",
       "      <td>1.112460</td>\n",
       "      <td>1.0</td>\n",
       "      <td>0.152739</td>\n",
       "    </tr>\n",
       "    <tr>\n",
       "      <th>2</th>\n",
       "      <td>jamkhed</td>\n",
       "      <td>bajri</td>\n",
       "      <td>2015</td>\n",
       "      <td>april</td>\n",
       "      <td>164.0</td>\n",
       "      <td>1304.0</td>\n",
       "      <td>1446.0</td>\n",
       "      <td>1375.0</td>\n",
       "      <td>2015-04-01</td>\n",
       "      <td>1370.835821</td>\n",
       "      <td>209.379863</td>\n",
       "      <td>1.003038</td>\n",
       "      <td>1.0</td>\n",
       "      <td>0.152739</td>\n",
       "    </tr>\n",
       "    <tr>\n",
       "      <th>3</th>\n",
       "      <td>kopargaon</td>\n",
       "      <td>bajri</td>\n",
       "      <td>2015</td>\n",
       "      <td>april</td>\n",
       "      <td>354.0</td>\n",
       "      <td>1164.0</td>\n",
       "      <td>1469.0</td>\n",
       "      <td>1401.0</td>\n",
       "      <td>2015-04-01</td>\n",
       "      <td>1370.835821</td>\n",
       "      <td>209.379863</td>\n",
       "      <td>1.022004</td>\n",
       "      <td>1.0</td>\n",
       "      <td>0.152739</td>\n",
       "    </tr>\n",
       "    <tr>\n",
       "      <th>4</th>\n",
       "      <td>newasa</td>\n",
       "      <td>bajri</td>\n",
       "      <td>2015</td>\n",
       "      <td>april</td>\n",
       "      <td>32.0</td>\n",
       "      <td>1282.0</td>\n",
       "      <td>1293.0</td>\n",
       "      <td>1286.0</td>\n",
       "      <td>2015-04-01</td>\n",
       "      <td>1370.835821</td>\n",
       "      <td>209.379863</td>\n",
       "      <td>0.938114</td>\n",
       "      <td>1.0</td>\n",
       "      <td>0.152739</td>\n",
       "    </tr>\n",
       "  </tbody>\n",
       "</table>\n",
       "</div>"
      ],
      "text/plain": [
       "         APMC Commodity  Year  Month  arrivals_in_qtl  min_price  max_price  \\\n",
       "0  ahmednagar     bajri  2015  april             79.0     1406.0     1538.0   \n",
       "1       akole     bajri  2015  april             52.0     1357.0     1800.0   \n",
       "2     jamkhed     bajri  2015  april            164.0     1304.0     1446.0   \n",
       "3   kopargaon     bajri  2015  april            354.0     1164.0     1469.0   \n",
       "4      newasa     bajri  2015  april             32.0     1282.0     1293.0   \n",
       "\n",
       "   modal_price       date  Monthly Average  Monthly Std  fluctuation  \\\n",
       "0       1463.0 2015-04-01      1370.835821   209.379863     1.067232   \n",
       "1       1525.0 2015-04-01      1370.835821   209.379863     1.112460   \n",
       "2       1375.0 2015-04-01      1370.835821   209.379863     1.003038   \n",
       "3       1401.0 2015-04-01      1370.835821   209.379863     1.022004   \n",
       "4       1286.0 2015-04-01      1370.835821   209.379863     0.938114   \n",
       "\n",
       "   Fluctuation_Mean  Fluctuation_Std  \n",
       "0               1.0         0.152739  \n",
       "1               1.0         0.152739  \n",
       "2               1.0         0.152739  \n",
       "3               1.0         0.152739  \n",
       "4               1.0         0.152739  "
      ]
     },
     "execution_count": 17,
     "metadata": {},
     "output_type": "execute_result"
    }
   ],
   "source": [
    "new_df.sort_values(by='date')\n",
    "new_df.head()"
   ]
  },
  {
   "cell_type": "code",
   "execution_count": 18,
   "metadata": {},
   "outputs": [
    {
     "data": {
      "text/plain": [
       "<matplotlib.legend.Legend at 0x25333e10e10>"
      ]
     },
     "execution_count": 18,
     "metadata": {},
     "output_type": "execute_result"
    },
    {
     "data": {
      "image/png": "[encoded data removed]",
      "text/plain": [
       "<Figure size 720x360 with 1 Axes>"
      ]
     },
     "metadata": {
      "needs_background": "light"
     },
     "output_type": "display_data"
    }
   ],
   "source": [
    "plt.figure(figsize=(10,5))\n",
    "gram = new_df[new_df['Commodity']=='gram']\n",
    "plt.plot(gram['date'],gram['fluctuation'],'.')\n",
    "plt.plot(gram['date'],gram['Fluctuation_Mean'],'.',linewidth=10)\n",
    "plt.plot(gram['date'],gram['Fluctuation_Std'],'*',linewidth=20)\n",
    "plt.legend(['Trend Removed Data','Mean of new data','Std of new data'])"
   ]
  },
  {
   "cell_type": "markdown",
   "metadata": {},
   "source": [
    "### The above plot shows that the data is scattered around zero. thus, removal of trend seems to be fine.\n",
    "### Additive model didnt have any effect on the standard deviation. Let's see if multiplicative model is able to make standard deviation invariant with time"
   ]
  },
  {
   "cell_type": "code",
   "execution_count": 19,
   "metadata": {},
   "outputs": [
    {
     "data": {
      "text/plain": [
       "<matplotlib.legend.Legend at 0x25333e7def0>"
      ]
     },
     "execution_count": 19,
     "metadata": {},
     "output_type": "execute_result"
    },
    {
     "data": {
      "image/png": "[encoded data removed]",
      "text/plain": [
       "<Figure size 720x360 with 1 Axes>"
      ]
     },
     "metadata": {
      "needs_background": "light"
     },
     "output_type": "display_data"
    }
   ],
   "source": [
    "plt.figure(figsize=(10,5))\n",
    "gram = new_df[new_df['Commodity']=='gram']\n",
    "plt.plot(gram['date'],gram['Monthly Std'],'>')\n",
    "plt.plot(gram['date'],gram['Fluctuation_Std'],'*',linewidth=30)\n",
    "plt.plot(gram['date'],gram['Fluctuation_Mean'],'-',linewidth=1)\n",
    "plt.legend(['Std of Monthly Data','std of new data','std of log data'])"
   ]
  },
  {
   "cell_type": "markdown",
   "metadata": {},
   "source": [
    "### Winner Winner Chicken Dinner!! :D :D\n",
    "### The mean and standard deviation of the transformed data i.e. $R(t)=f(t)/(trend(t)*seasonal(t)$ seems to be reduced to an invariant quantity. \n",
    "### Sanity Check: Looking at periodogram to check the periodic elements present in the data and adfuller test to substantiate that the stationarity has been achieved\n"
   ]
  },
  {
   "cell_type": "code",
   "execution_count": 20,
   "metadata": {},
   "outputs": [],
   "source": [
    "def periodogram(dataset,series_name,commodity_name,x_min=0,x_max=2.0):\n",
    "    series = np.array(dataset[dataset['Commodity']==commodity_name][series_name])**2\n",
    "    price_fft = sp.fftpack.fft(series)\n",
    "    price_psd = np.abs(price_fft) ** 2\n",
    "    fftfreq = sp.fftpack.fftfreq(len(price_psd),1/365)\n",
    "    time_ = 1/fftfreq\n",
    "    i = fftfreq > 0\n",
    "    plt.figure(figsize=(10,7))\n",
    "    fig, ax = plt.subplots(1, 1, figsize=(8, 4))\n",
    "    ax.plot(time_[i], price_psd[i])\n",
    "    plt.xlim(x_min,x_max)\n",
    "    ax.set_xlabel('Time Period (year)')\n",
    "    ax.set_ylabel('Power Spectral Density')\n",
    "    plt.legend([commodity_name])"
   ]
  },
  {
   "cell_type": "markdown",
   "metadata": {},
   "source": [
    "### Below are some spectrum to judge the performance of the method used above to remove non-stationarity. \n",
    "### This is later reflected upon in the adfuller stats"
   ]
  },
  {
   "cell_type": "code",
   "execution_count": 21,
   "metadata": {},
   "outputs": [
    {
     "name": "stderr",
     "output_type": "stream",
     "text": [
      "C:\\Users\\vipul\\Anaconda3\\lib\\site-packages\\ipykernel_launcher.py:6: RuntimeWarning: divide by zero encountered in true_divide\n",
      "  \n"
     ]
    },
    {
     "data": {
      "text/plain": [
       "<Figure size 720x504 with 0 Axes>"
      ]
     },
     "metadata": {},
     "output_type": "display_data"
    },
    {
     "data": {
      "image/png": "[encoded data removed]",
      "text/plain": [
       "<Figure size 576x288 with 1 Axes>"
      ]
     },
     "metadata": {
      "needs_background": "light"
     },
     "output_type": "display_data"
    },
    {
     "data": {
      "text/plain": [
       "<Figure size 720x504 with 0 Axes>"
      ]
     },
     "metadata": {},
     "output_type": "display_data"
    },
    {
     "data": {
      "image/png": "[encoded data removed]",
      "text/plain": [
       "<Figure size 576x288 with 1 Axes>"
      ]
     },
     "metadata": {
      "needs_background": "light"
     },
     "output_type": "display_data"
    },
    {
     "data": {
      "text/plain": [
       "<Figure size 720x504 with 0 Axes>"
      ]
     },
     "metadata": {},
     "output_type": "display_data"
    },
    {
     "data": {
      "image/png": "[encoded data removed]",
      "text/plain": [
       "<Figure size 576x288 with 1 Axes>"
      ]
     },
     "metadata": {
      "needs_background": "light"
     },
     "output_type": "display_data"
    },
    {
     "data": {
      "text/plain": [
       "<Figure size 720x504 with 0 Axes>"
      ]
     },
     "metadata": {},
     "output_type": "display_data"
    },
    {
     "data": {
      "image/png": "[encoded data removed]",
      "text/plain": [
       "<Figure size 576x288 with 1 Axes>"
      ]
     },
     "metadata": {
      "needs_background": "light"
     },
     "output_type": "display_data"
    },
    {
     "data": {
      "text/plain": [
       "<Figure size 720x504 with 0 Axes>"
      ]
     },
     "metadata": {},
     "output_type": "display_data"
    },
    {
     "data": {
      "image/png": "[encoded data removed]",
      "text/plain": [
       "<Figure size 576x288 with 1 Axes>"
      ]
     },
     "metadata": {
      "needs_background": "light"
     },
     "output_type": "display_data"
    },
    {
     "data": {
      "text/plain": [
       "<Figure size 720x504 with 0 Axes>"
      ]
     },
     "metadata": {},
     "output_type": "display_data"
    },
    {
     "data": {
      "image/png": "[encoded data removed]",
      "text/plain": [
       "<Figure size 576x288 with 1 Axes>"
      ]
     },
     "metadata": {
      "needs_background": "light"
     },
     "output_type": "display_data"
    }
   ],
   "source": [
    "periodogram(new_df,'modal_price','gram')\n",
    "periodogram(new_df,'fluctuation','gram')\n",
    "periodogram(new_df,'modal_price','bajri')\n",
    "periodogram(new_df,'fluctuation','bajri')\n",
    "periodogram(new_df,'modal_price','mango(raw)',0,.5)\n",
    "periodogram(new_df,'fluctuation','mango(raw)',0,0.5)"
   ]
  },
  {
   "cell_type": "markdown",
   "metadata": {},
   "source": [
    "### Periodogram suggests that the periodic elements have been suppressed by a factor $>10^{15}$. This makes me feel confident about the multiplicative behavior of the price variation\n",
    "### In order to keep everything same (except the model), all the processes have been repeated in exactly the same manner. Again, maxlag will be used to remove the commodities with insufficient number of datapoints. Remaining will be tested with adfuller"
   ]
  },
  {
   "cell_type": "code",
   "execution_count": 22,
   "metadata": {},
   "outputs": [],
   "source": [
    "def maxlag(x): return int(12.0*pow((len(x)/100.0),0.25))"
   ]
  },
  {
   "cell_type": "code",
   "execution_count": 23,
   "metadata": {},
   "outputs": [],
   "source": [
    "relevant_data = new_df[['Commodity','modal_price','fluctuation']]\n",
    "commodity     = np.array(pd.pivot_table(new_df,index='Commodity').index)"
   ]
  },
  {
   "cell_type": "code",
   "execution_count": 24,
   "metadata": {},
   "outputs": [
    {
     "name": "stdout",
     "output_type": "stream",
     "text": [
      "old shape:  (62418, 14)\n",
      "new shape:  (59696, 14)\n"
     ]
    }
   ],
   "source": [
    "print ('old shape: ',new_df.shape)\n",
    "for i in range(0,len(commodity)):\n",
    "    series = new_df[new_df['Commodity']==commodity[i]]['modal_price']\n",
    "    if (maxlag(series)<12):\n",
    "        indexes = new_df[new_df['Commodity']==commodity[i]].index\n",
    "        new_df.drop(indexes,inplace=True,axis=0)\n",
    "\n",
    "commodity = np.array(pd.pivot_table(new_df,index='Commodity').index)\n",
    "print ('new shape: ',new_df.shape)"
   ]
  },
  {
   "cell_type": "markdown",
   "metadata": {},
   "source": [
    "### Define the hypothesis to test the generated data for seasonality and trend\n",
    "### Null Hypothesis: The data 'modal_prices' contains seasonality and trend\n",
    "### Alternate Hypothesis: The data 'modal prices' doesnt contain any seasonality or trend"
   ]
  },
  {
   "cell_type": "code",
   "execution_count": 25,
   "metadata": {},
   "outputs": [],
   "source": [
    "from statsmodels.tsa.stattools import adfuller\n",
    "def adf(x):\n",
    "    result = adfuller(x)\n",
    "    adf_stat = result[0]\n",
    "    p_value  = result[1]\n",
    "    cv_1     = result[4].get('1%')\n",
    "    cv_5     = result[4].get('5%')\n",
    "    cv_10    = result[4].get('10%')\n",
    "    return [adf_stat,p_value,cv_1,cv_5,cv_10]"
   ]
  },
  {
   "cell_type": "code",
   "execution_count": 26,
   "metadata": {},
   "outputs": [],
   "source": [
    "### defining a function to perform adfuller test on a series (defined by series_name) contained within (dataframe)\n",
    "### for a list of commodity of interest.\n",
    "def test_adf(dataframe,series_name,commodity):\n",
    "    name=[]\n",
    "    stationarity=[]\n",
    "    adf_stats = []\n",
    "    p_value = []\n",
    "    cv_1 = []\n",
    "    cv_5 = []\n",
    "    cv_10 = []\n",
    "    for i in range(0,len(commodity)):\n",
    "        series = np.array(dataframe[dataframe['Commodity']==str(commodity[i])][series_name])\n",
    "        name.append(commodity[i])\n",
    "        result = adf(series)\n",
    "        adf_stats.append(result[0])\n",
    "        p_value.append(result[1])\n",
    "        cv_1.append(result[2])\n",
    "        cv_5.append(result[3])\n",
    "        cv_10.append(result[4])\n",
    "        test_stas = pd.DataFrame({'name':name,'adf':adf_stats,'p_value':p_value,'critical value 1%':cv_1,'critical value 5%':cv_5,'critical value 10%':cv_10}) \n",
    "        test_stas.set_index('name',inplace=True)\n",
    "    return test_stas"
   ]
  },
  {
   "cell_type": "markdown",
   "metadata": {},
   "source": [
    "### Earlier, monthly average of 'modal_prices' was taken and then subtracted from the main dataset. \n",
    "### Below is the adfuller test to check the number of data points with a significance level of greater than 1% "
   ]
  },
  {
   "cell_type": "code",
   "execution_count": 27,
   "metadata": {},
   "outputs": [],
   "source": [
    "on_modal_price = test_adf(new_df,'modal_price',commodity)\n",
    "on_monthly_averaged = test_adf(new_df,'fluctuation',commodity)"
   ]
  },
  {
   "cell_type": "code",
   "execution_count": 28,
   "metadata": {},
   "outputs": [
    {
     "data": {
      "text/html": [
       "<div>\n",
       "<style scoped>\n",
       "    .dataframe tbody tr th:only-of-type {\n",
       "        vertical-align: middle;\n",
       "    }\n",
       "\n",
       "    .dataframe tbody tr th {\n",
       "        vertical-align: top;\n",
       "    }\n",
       "\n",
       "    .dataframe thead th {\n",
       "        text-align: right;\n",
       "    }\n",
       "</style>\n",
       "<table border=\"1\" class=\"dataframe\">\n",
       "  <thead>\n",
       "    <tr style=\"text-align: right;\">\n",
       "      <th></th>\n",
       "      <th>adf</th>\n",
       "      <th>p_value</th>\n",
       "      <th>critical value 1%</th>\n",
       "      <th>critical value 5%</th>\n",
       "      <th>critical value 10%</th>\n",
       "    </tr>\n",
       "    <tr>\n",
       "      <th>name</th>\n",
       "      <th></th>\n",
       "      <th></th>\n",
       "      <th></th>\n",
       "      <th></th>\n",
       "      <th></th>\n",
       "    </tr>\n",
       "  </thead>\n",
       "  <tbody>\n",
       "    <tr>\n",
       "      <th>bitter gourd</th>\n",
       "      <td>-3.402447</td>\n",
       "      <td>0.010876</td>\n",
       "      <td>-3.438439</td>\n",
       "      <td>-2.865110</td>\n",
       "      <td>-2.568671</td>\n",
       "    </tr>\n",
       "    <tr>\n",
       "      <th>cucumber</th>\n",
       "      <td>-3.196024</td>\n",
       "      <td>0.020216</td>\n",
       "      <td>-3.438379</td>\n",
       "      <td>-2.865084</td>\n",
       "      <td>-2.568657</td>\n",
       "    </tr>\n",
       "    <tr>\n",
       "      <th>ghosali(bhaji)</th>\n",
       "      <td>-3.347651</td>\n",
       "      <td>0.012878</td>\n",
       "      <td>-3.464694</td>\n",
       "      <td>-2.876635</td>\n",
       "      <td>-2.574816</td>\n",
       "    </tr>\n",
       "    <tr>\n",
       "      <th>green chilli</th>\n",
       "      <td>-3.120525</td>\n",
       "      <td>0.025071</td>\n",
       "      <td>-3.438196</td>\n",
       "      <td>-2.865003</td>\n",
       "      <td>-2.568614</td>\n",
       "    </tr>\n",
       "    <tr>\n",
       "      <th>green peas (dry)</th>\n",
       "      <td>-3.332980</td>\n",
       "      <td>0.013467</td>\n",
       "      <td>-3.460428</td>\n",
       "      <td>-2.874769</td>\n",
       "      <td>-2.573821</td>\n",
       "    </tr>\n",
       "  </tbody>\n",
       "</table>\n",
       "</div>"
      ],
      "text/plain": [
       "                       adf   p_value  critical value 1%  critical value 5%  \\\n",
       "name                                                                         \n",
       "bitter gourd     -3.402447  0.010876          -3.438439          -2.865110   \n",
       "cucumber         -3.196024  0.020216          -3.438379          -2.865084   \n",
       "ghosali(bhaji)   -3.347651  0.012878          -3.464694          -2.876635   \n",
       "green chilli     -3.120525  0.025071          -3.438196          -2.865003   \n",
       "green peas (dry) -3.332980  0.013467          -3.460428          -2.874769   \n",
       "\n",
       "                  critical value 10%  \n",
       "name                                  \n",
       "bitter gourd               -2.568671  \n",
       "cucumber                   -2.568657  \n",
       "ghosali(bhaji)             -2.574816  \n",
       "green chilli               -2.568614  \n",
       "green peas (dry)           -2.573821  "
      ]
     },
     "execution_count": 28,
     "metadata": {},
     "output_type": "execute_result"
    }
   ],
   "source": [
    "ind = on_modal_price['adf']>on_modal_price['critical value 1%']\n",
    "on_modal_price[ind].head()"
   ]
  },
  {
   "cell_type": "code",
   "execution_count": 29,
   "metadata": {},
   "outputs": [
    {
     "data": {
      "text/html": [
       "<div>\n",
       "<style scoped>\n",
       "    .dataframe tbody tr th:only-of-type {\n",
       "        vertical-align: middle;\n",
       "    }\n",
       "\n",
       "    .dataframe tbody tr th {\n",
       "        vertical-align: top;\n",
       "    }\n",
       "\n",
       "    .dataframe thead th {\n",
       "        text-align: right;\n",
       "    }\n",
       "</style>\n",
       "<table border=\"1\" class=\"dataframe\">\n",
       "  <thead>\n",
       "    <tr style=\"text-align: right;\">\n",
       "      <th></th>\n",
       "      <th>adf</th>\n",
       "      <th>p_value</th>\n",
       "      <th>critical value 1%</th>\n",
       "      <th>critical value 5%</th>\n",
       "      <th>critical value 10%</th>\n",
       "    </tr>\n",
       "    <tr>\n",
       "      <th>name</th>\n",
       "      <th></th>\n",
       "      <th></th>\n",
       "      <th></th>\n",
       "      <th></th>\n",
       "      <th></th>\n",
       "    </tr>\n",
       "  </thead>\n",
       "  <tbody>\n",
       "    <tr>\n",
       "      <th>bitter gourd</th>\n",
       "      <td>-10.333988</td>\n",
       "      <td>2.794777e-18</td>\n",
       "      <td>-3.438540</td>\n",
       "      <td>-2.865155</td>\n",
       "      <td>-2.568695</td>\n",
       "    </tr>\n",
       "    <tr>\n",
       "      <th>cucumber</th>\n",
       "      <td>-10.622867</td>\n",
       "      <td>5.458376e-19</td>\n",
       "      <td>-3.438350</td>\n",
       "      <td>-2.865071</td>\n",
       "      <td>-2.568650</td>\n",
       "    </tr>\n",
       "    <tr>\n",
       "      <th>ghosali(bhaji)</th>\n",
       "      <td>-8.022693</td>\n",
       "      <td>2.056052e-12</td>\n",
       "      <td>-3.464875</td>\n",
       "      <td>-2.876714</td>\n",
       "      <td>-2.574859</td>\n",
       "    </tr>\n",
       "    <tr>\n",
       "      <th>green chilli</th>\n",
       "      <td>-9.704150</td>\n",
       "      <td>1.052815e-16</td>\n",
       "      <td>-3.438311</td>\n",
       "      <td>-2.865054</td>\n",
       "      <td>-2.568641</td>\n",
       "    </tr>\n",
       "    <tr>\n",
       "      <th>green peas (dry)</th>\n",
       "      <td>-10.105386</td>\n",
       "      <td>1.033215e-17</td>\n",
       "      <td>-3.460154</td>\n",
       "      <td>-2.874649</td>\n",
       "      <td>-2.573757</td>\n",
       "    </tr>\n",
       "  </tbody>\n",
       "</table>\n",
       "</div>"
      ],
      "text/plain": [
       "                        adf       p_value  critical value 1%  \\\n",
       "name                                                           \n",
       "bitter gourd     -10.333988  2.794777e-18          -3.438540   \n",
       "cucumber         -10.622867  5.458376e-19          -3.438350   \n",
       "ghosali(bhaji)    -8.022693  2.056052e-12          -3.464875   \n",
       "green chilli      -9.704150  1.052815e-16          -3.438311   \n",
       "green peas (dry) -10.105386  1.033215e-17          -3.460154   \n",
       "\n",
       "                  critical value 5%  critical value 10%  \n",
       "name                                                     \n",
       "bitter gourd              -2.865155           -2.568695  \n",
       "cucumber                  -2.865071           -2.568650  \n",
       "ghosali(bhaji)            -2.876714           -2.574859  \n",
       "green chilli              -2.865054           -2.568641  \n",
       "green peas (dry)          -2.874649           -2.573757  "
      ]
     },
     "execution_count": 29,
     "metadata": {},
     "output_type": "execute_result"
    }
   ],
   "source": [
    "on_monthly_averaged[ind].head()"
   ]
  },
  {
   "cell_type": "code",
   "execution_count": 30,
   "metadata": {},
   "outputs": [
    {
     "data": {
      "text/html": [
       "<div>\n",
       "<style scoped>\n",
       "    .dataframe tbody tr th:only-of-type {\n",
       "        vertical-align: middle;\n",
       "    }\n",
       "\n",
       "    .dataframe tbody tr th {\n",
       "        vertical-align: top;\n",
       "    }\n",
       "\n",
       "    .dataframe thead th {\n",
       "        text-align: right;\n",
       "    }\n",
       "</style>\n",
       "<table border=\"1\" class=\"dataframe\">\n",
       "  <thead>\n",
       "    <tr style=\"text-align: right;\">\n",
       "      <th></th>\n",
       "      <th>adf</th>\n",
       "      <th>p_value</th>\n",
       "      <th>critical value 1%</th>\n",
       "      <th>critical value 5%</th>\n",
       "      <th>critical value 10%</th>\n",
       "    </tr>\n",
       "    <tr>\n",
       "      <th>name</th>\n",
       "      <th></th>\n",
       "      <th></th>\n",
       "      <th></th>\n",
       "      <th></th>\n",
       "      <th></th>\n",
       "    </tr>\n",
       "  </thead>\n",
       "  <tbody>\n",
       "  </tbody>\n",
       "</table>\n",
       "</div>"
      ],
      "text/plain": [
       "Empty DataFrame\n",
       "Columns: [adf, p_value, critical value 1%, critical value 5%, critical value 10%]\n",
       "Index: []"
      ]
     },
     "execution_count": 30,
     "metadata": {},
     "output_type": "execute_result"
    }
   ],
   "source": [
    "on_monthly_averaged[on_monthly_averaged['adf']>on_monthly_averaged['critical value 1%']]"
   ]
  },
  {
   "cell_type": "markdown",
   "metadata": {},
   "source": [
    "### On comparing the adfuller test for both models, similar results have been obtained. This suggests that both the models were able to remove non-stationarity. <font color=red> However, for me a visual inspection of the standard deviation of the fluctuations and the spectral analysis suggests that the seasonality must be multiplicative.</font>\n",
    "### The above test shows that there is less than 1% probability that removing the monthly average from the modal prices has not removed the trend and the seasonality from all the commodity data."
   ]
  },
  {
   "cell_type": "code",
   "execution_count": 31,
   "metadata": {},
   "outputs": [
    {
     "data": {
      "text/html": [
       "<div>\n",
       "<style scoped>\n",
       "    .dataframe tbody tr th:only-of-type {\n",
       "        vertical-align: middle;\n",
       "    }\n",
       "\n",
       "    .dataframe tbody tr th {\n",
       "        vertical-align: top;\n",
       "    }\n",
       "\n",
       "    .dataframe thead th {\n",
       "        text-align: right;\n",
       "    }\n",
       "</style>\n",
       "<table border=\"1\" class=\"dataframe\">\n",
       "  <thead>\n",
       "    <tr style=\"text-align: right;\">\n",
       "      <th></th>\n",
       "      <th>APMC</th>\n",
       "      <th>Commodity</th>\n",
       "      <th>Year</th>\n",
       "      <th>Month</th>\n",
       "      <th>arrivals_in_qtl</th>\n",
       "      <th>min_price</th>\n",
       "      <th>max_price</th>\n",
       "      <th>modal_price</th>\n",
       "      <th>date</th>\n",
       "      <th>Monthly Average</th>\n",
       "      <th>Monthly Std</th>\n",
       "      <th>fluctuation</th>\n",
       "      <th>Fluctuation_Mean</th>\n",
       "      <th>Fluctuation_Std</th>\n",
       "    </tr>\n",
       "  </thead>\n",
       "  <tbody>\n",
       "    <tr>\n",
       "      <th>0</th>\n",
       "      <td>ahmednagar</td>\n",
       "      <td>bajri</td>\n",
       "      <td>2015</td>\n",
       "      <td>april</td>\n",
       "      <td>79.0</td>\n",
       "      <td>1406.0</td>\n",
       "      <td>1538.0</td>\n",
       "      <td>1463.0</td>\n",
       "      <td>2015-04-01</td>\n",
       "      <td>1370.835821</td>\n",
       "      <td>209.379863</td>\n",
       "      <td>1.067232</td>\n",
       "      <td>1.0</td>\n",
       "      <td>0.152739</td>\n",
       "    </tr>\n",
       "    <tr>\n",
       "      <th>1</th>\n",
       "      <td>akole</td>\n",
       "      <td>bajri</td>\n",
       "      <td>2015</td>\n",
       "      <td>april</td>\n",
       "      <td>52.0</td>\n",
       "      <td>1357.0</td>\n",
       "      <td>1800.0</td>\n",
       "      <td>1525.0</td>\n",
       "      <td>2015-04-01</td>\n",
       "      <td>1370.835821</td>\n",
       "      <td>209.379863</td>\n",
       "      <td>1.112460</td>\n",
       "      <td>1.0</td>\n",
       "      <td>0.152739</td>\n",
       "    </tr>\n",
       "    <tr>\n",
       "      <th>2</th>\n",
       "      <td>jamkhed</td>\n",
       "      <td>bajri</td>\n",
       "      <td>2015</td>\n",
       "      <td>april</td>\n",
       "      <td>164.0</td>\n",
       "      <td>1304.0</td>\n",
       "      <td>1446.0</td>\n",
       "      <td>1375.0</td>\n",
       "      <td>2015-04-01</td>\n",
       "      <td>1370.835821</td>\n",
       "      <td>209.379863</td>\n",
       "      <td>1.003038</td>\n",
       "      <td>1.0</td>\n",
       "      <td>0.152739</td>\n",
       "    </tr>\n",
       "    <tr>\n",
       "      <th>3</th>\n",
       "      <td>kopargaon</td>\n",
       "      <td>bajri</td>\n",
       "      <td>2015</td>\n",
       "      <td>april</td>\n",
       "      <td>354.0</td>\n",
       "      <td>1164.0</td>\n",
       "      <td>1469.0</td>\n",
       "      <td>1401.0</td>\n",
       "      <td>2015-04-01</td>\n",
       "      <td>1370.835821</td>\n",
       "      <td>209.379863</td>\n",
       "      <td>1.022004</td>\n",
       "      <td>1.0</td>\n",
       "      <td>0.152739</td>\n",
       "    </tr>\n",
       "    <tr>\n",
       "      <th>4</th>\n",
       "      <td>newasa</td>\n",
       "      <td>bajri</td>\n",
       "      <td>2015</td>\n",
       "      <td>april</td>\n",
       "      <td>32.0</td>\n",
       "      <td>1282.0</td>\n",
       "      <td>1293.0</td>\n",
       "      <td>1286.0</td>\n",
       "      <td>2015-04-01</td>\n",
       "      <td>1370.835821</td>\n",
       "      <td>209.379863</td>\n",
       "      <td>0.938114</td>\n",
       "      <td>1.0</td>\n",
       "      <td>0.152739</td>\n",
       "    </tr>\n",
       "  </tbody>\n",
       "</table>\n",
       "</div>"
      ],
      "text/plain": [
       "         APMC Commodity  Year  Month  arrivals_in_qtl  min_price  max_price  \\\n",
       "0  ahmednagar     bajri  2015  april             79.0     1406.0     1538.0   \n",
       "1       akole     bajri  2015  april             52.0     1357.0     1800.0   \n",
       "2     jamkhed     bajri  2015  april            164.0     1304.0     1446.0   \n",
       "3   kopargaon     bajri  2015  april            354.0     1164.0     1469.0   \n",
       "4      newasa     bajri  2015  april             32.0     1282.0     1293.0   \n",
       "\n",
       "   modal_price       date  Monthly Average  Monthly Std  fluctuation  \\\n",
       "0       1463.0 2015-04-01      1370.835821   209.379863     1.067232   \n",
       "1       1525.0 2015-04-01      1370.835821   209.379863     1.112460   \n",
       "2       1375.0 2015-04-01      1370.835821   209.379863     1.003038   \n",
       "3       1401.0 2015-04-01      1370.835821   209.379863     1.022004   \n",
       "4       1286.0 2015-04-01      1370.835821   209.379863     0.938114   \n",
       "\n",
       "   Fluctuation_Mean  Fluctuation_Std  \n",
       "0               1.0         0.152739  \n",
       "1               1.0         0.152739  \n",
       "2               1.0         0.152739  \n",
       "3               1.0         0.152739  \n",
       "4               1.0         0.152739  "
      ]
     },
     "execution_count": 31,
     "metadata": {},
     "output_type": "execute_result"
    }
   ],
   "source": [
    "new_df.head()"
   ]
  },
  {
   "cell_type": "markdown",
   "metadata": {},
   "source": [
    "new_df.drop(['Monthly Std','Fluctuation_Mean','Fluctuation_Std','Monthly Average'],axis=1,inplace=True)"
   ]
  },
  {
   "cell_type": "code",
   "execution_count": 32,
   "metadata": {},
   "outputs": [
    {
     "data": {
      "text/html": [
       "<div>\n",
       "<style scoped>\n",
       "    .dataframe tbody tr th:only-of-type {\n",
       "        vertical-align: middle;\n",
       "    }\n",
       "\n",
       "    .dataframe tbody tr th {\n",
       "        vertical-align: top;\n",
       "    }\n",
       "\n",
       "    .dataframe thead th {\n",
       "        text-align: right;\n",
       "    }\n",
       "</style>\n",
       "<table border=\"1\" class=\"dataframe\">\n",
       "  <thead>\n",
       "    <tr style=\"text-align: right;\">\n",
       "      <th></th>\n",
       "      <th>APMC</th>\n",
       "      <th>Commodity</th>\n",
       "      <th>Year</th>\n",
       "      <th>Month</th>\n",
       "      <th>arrivals_in_qtl</th>\n",
       "      <th>min_price</th>\n",
       "      <th>max_price</th>\n",
       "      <th>modal_price</th>\n",
       "      <th>date</th>\n",
       "      <th>Monthly Average</th>\n",
       "      <th>Monthly Std</th>\n",
       "      <th>fluctuation</th>\n",
       "      <th>Fluctuation_Mean</th>\n",
       "      <th>Fluctuation_Std</th>\n",
       "    </tr>\n",
       "  </thead>\n",
       "  <tbody>\n",
       "    <tr>\n",
       "      <th>0</th>\n",
       "      <td>ahmednagar</td>\n",
       "      <td>bajri</td>\n",
       "      <td>2015</td>\n",
       "      <td>april</td>\n",
       "      <td>79.0</td>\n",
       "      <td>1406.0</td>\n",
       "      <td>1538.0</td>\n",
       "      <td>1463.0</td>\n",
       "      <td>2015-04-01</td>\n",
       "      <td>1370.835821</td>\n",
       "      <td>209.379863</td>\n",
       "      <td>1.067232</td>\n",
       "      <td>1.0</td>\n",
       "      <td>0.152739</td>\n",
       "    </tr>\n",
       "    <tr>\n",
       "      <th>1</th>\n",
       "      <td>akole</td>\n",
       "      <td>bajri</td>\n",
       "      <td>2015</td>\n",
       "      <td>april</td>\n",
       "      <td>52.0</td>\n",
       "      <td>1357.0</td>\n",
       "      <td>1800.0</td>\n",
       "      <td>1525.0</td>\n",
       "      <td>2015-04-01</td>\n",
       "      <td>1370.835821</td>\n",
       "      <td>209.379863</td>\n",
       "      <td>1.112460</td>\n",
       "      <td>1.0</td>\n",
       "      <td>0.152739</td>\n",
       "    </tr>\n",
       "    <tr>\n",
       "      <th>2</th>\n",
       "      <td>jamkhed</td>\n",
       "      <td>bajri</td>\n",
       "      <td>2015</td>\n",
       "      <td>april</td>\n",
       "      <td>164.0</td>\n",
       "      <td>1304.0</td>\n",
       "      <td>1446.0</td>\n",
       "      <td>1375.0</td>\n",
       "      <td>2015-04-01</td>\n",
       "      <td>1370.835821</td>\n",
       "      <td>209.379863</td>\n",
       "      <td>1.003038</td>\n",
       "      <td>1.0</td>\n",
       "      <td>0.152739</td>\n",
       "    </tr>\n",
       "    <tr>\n",
       "      <th>3</th>\n",
       "      <td>kopargaon</td>\n",
       "      <td>bajri</td>\n",
       "      <td>2015</td>\n",
       "      <td>april</td>\n",
       "      <td>354.0</td>\n",
       "      <td>1164.0</td>\n",
       "      <td>1469.0</td>\n",
       "      <td>1401.0</td>\n",
       "      <td>2015-04-01</td>\n",
       "      <td>1370.835821</td>\n",
       "      <td>209.379863</td>\n",
       "      <td>1.022004</td>\n",
       "      <td>1.0</td>\n",
       "      <td>0.152739</td>\n",
       "    </tr>\n",
       "    <tr>\n",
       "      <th>4</th>\n",
       "      <td>newasa</td>\n",
       "      <td>bajri</td>\n",
       "      <td>2015</td>\n",
       "      <td>april</td>\n",
       "      <td>32.0</td>\n",
       "      <td>1282.0</td>\n",
       "      <td>1293.0</td>\n",
       "      <td>1286.0</td>\n",
       "      <td>2015-04-01</td>\n",
       "      <td>1370.835821</td>\n",
       "      <td>209.379863</td>\n",
       "      <td>0.938114</td>\n",
       "      <td>1.0</td>\n",
       "      <td>0.152739</td>\n",
       "    </tr>\n",
       "  </tbody>\n",
       "</table>\n",
       "</div>"
      ],
      "text/plain": [
       "         APMC Commodity  Year  Month  arrivals_in_qtl  min_price  max_price  \\\n",
       "0  ahmednagar     bajri  2015  april             79.0     1406.0     1538.0   \n",
       "1       akole     bajri  2015  april             52.0     1357.0     1800.0   \n",
       "2     jamkhed     bajri  2015  april            164.0     1304.0     1446.0   \n",
       "3   kopargaon     bajri  2015  april            354.0     1164.0     1469.0   \n",
       "4      newasa     bajri  2015  april             32.0     1282.0     1293.0   \n",
       "\n",
       "   modal_price       date  Monthly Average  Monthly Std  fluctuation  \\\n",
       "0       1463.0 2015-04-01      1370.835821   209.379863     1.067232   \n",
       "1       1525.0 2015-04-01      1370.835821   209.379863     1.112460   \n",
       "2       1375.0 2015-04-01      1370.835821   209.379863     1.003038   \n",
       "3       1401.0 2015-04-01      1370.835821   209.379863     1.022004   \n",
       "4       1286.0 2015-04-01      1370.835821   209.379863     0.938114   \n",
       "\n",
       "   Fluctuation_Mean  Fluctuation_Std  \n",
       "0               1.0         0.152739  \n",
       "1               1.0         0.152739  \n",
       "2               1.0         0.152739  \n",
       "3               1.0         0.152739  \n",
       "4               1.0         0.152739  "
      ]
     },
     "execution_count": 32,
     "metadata": {},
     "output_type": "execute_result"
    }
   ],
   "source": [
    "new_df.head()"
   ]
  },
  {
   "cell_type": "code",
   "execution_count": 33,
   "metadata": {},
   "outputs": [],
   "source": [
    "new_df.to_csv('after_removing_multiplicative.csv')"
   ]
  },
  {
   "cell_type": "markdown",
   "metadata": {},
   "source": [
    "### Above, a new file has been created which contains a new column ''fluctuation\". This column contains detrended and deseasonalised data (residuals) and may be suitable for modelling purposes.\n"
   ]
  },
  {
   "cell_type": "code",
   "execution_count": 34,
   "metadata": {},
   "outputs": [],
   "source": [
    "msp = pd.read_csv('CMO_MSP_Mandi.csv')"
   ]
  },
  {
   "cell_type": "code",
   "execution_count": 35,
   "metadata": {},
   "outputs": [
    {
     "name": "stdout",
     "output_type": "stream",
     "text": [
      "<class 'pandas.core.frame.DataFrame'>\n",
      "RangeIndex: 155 entries, 0 to 154\n",
      "Data columns (total 5 columns):\n",
      "commodity     155 non-null object\n",
      "year          155 non-null int64\n",
      "Type          155 non-null object\n",
      "msprice       145 non-null float64\n",
      "msp_filter    155 non-null int64\n",
      "dtypes: float64(1), int64(2), object(2)\n",
      "memory usage: 6.1+ KB\n"
     ]
    }
   ],
   "source": [
    "msp.info()"
   ]
  },
  {
   "cell_type": "code",
   "execution_count": 36,
   "metadata": {},
   "outputs": [],
   "source": [
    "msp['commodity']=msp['commodity'].str.lower()\n",
    "msp['commodity']=msp['commodity'].str.replace('-',' ')\n",
    "msp['commodity']=msp['commodity'].str.replace('_',' ')\n",
    "msp['commodity']=msp['commodity'].str.replace('sugar cane','sugarcane')"
   ]
  },
  {
   "cell_type": "code",
   "execution_count": 37,
   "metadata": {},
   "outputs": [
    {
     "data": {
      "text/plain": [
       "maize                     5\n",
       "wheat(husked)             5\n",
       "mustard                   5\n",
       "coconut                   5\n",
       "spilt gerrn gram          5\n",
       "sunflower                 5\n",
       "gr.nut kernels            5\n",
       "split black gram          5\n",
       "copra (ball) yellow       5\n",
       "copra (milling) yellow    5\n",
       "paddy unhusked            5\n",
       "ragi maldandi             5\n",
       "safflower                 5\n",
       "sugarcane                 5\n",
       "bajri                     5\n",
       "barli                     5\n",
       "pigeon pea (tur)          5\n",
       "gram yellow               5\n",
       "rice(paddy hus)           5\n",
       "sorgum(jawar)             5\n",
       "niger seed                5\n",
       "toria yellow              5\n",
       "cotton long staple        5\n",
       "jowar hybrid              5\n",
       "sesamum                   5\n",
       "soyabean                  5\n",
       "soyabean black            5\n",
       "cotton                    5\n",
       "jute yellow               5\n",
       "wheat(unhusked)           5\n",
       "masur yellow              5\n",
       "Name: commodity, dtype: int64"
      ]
     },
     "execution_count": 37,
     "metadata": {},
     "output_type": "execute_result"
    }
   ],
   "source": [
    "msp['commodity'].value_counts()"
   ]
  },
  {
   "cell_type": "code",
   "execution_count": 38,
   "metadata": {},
   "outputs": [],
   "source": [
    "msp_table = pd.pivot_table(msp,index=['commodity','year'],values='msprice')"
   ]
  },
  {
   "cell_type": "code",
   "execution_count": 39,
   "metadata": {},
   "outputs": [],
   "source": [
    "common_commodity = list(set(df['Commodity']).intersection(set(msp['commodity'])))"
   ]
  },
  {
   "cell_type": "code",
   "execution_count": 40,
   "metadata": {},
   "outputs": [
    {
     "data": {
      "text/plain": [
       "['mustard',\n",
       " 'spilt gerrn gram',\n",
       " 'maize',\n",
       " 'gr.nut kernels',\n",
       " 'sugarcane',\n",
       " 'sunflower',\n",
       " 'pigeon pea (tur)',\n",
       " 'sesamum',\n",
       " 'split black gram',\n",
       " 'safflower',\n",
       " 'cotton',\n",
       " 'wheat(unhusked)',\n",
       " 'coconut',\n",
       " 'wheat(husked)',\n",
       " 'bajri',\n",
       " 'sorgum(jawar)']"
      ]
     },
     "execution_count": 40,
     "metadata": {},
     "output_type": "execute_result"
    }
   ],
   "source": [
    "common_commodity"
   ]
  },
  {
   "cell_type": "code",
   "execution_count": 41,
   "metadata": {},
   "outputs": [],
   "source": [
    "gh = trendline['max_price'].loc['maize']"
   ]
  },
  {
   "cell_type": "code",
   "execution_count": 42,
   "metadata": {},
   "outputs": [
    {
     "data": {
      "text/plain": [
       "[<matplotlib.lines.Line2D at 0x253340dc4a8>]"
      ]
     },
     "execution_count": 42,
     "metadata": {},
     "output_type": "execute_result"
    },
    {
     "data": {
      "image/png": "[encoded data removed]",
      "text/plain": [
       "<Figure size 432x288 with 1 Axes>"
      ]
     },
     "metadata": {
      "needs_background": "light"
     },
     "output_type": "display_data"
    }
   ],
   "source": [
    "plt.plot(gh.index,np.array(gh),'.')"
   ]
  },
  {
   "cell_type": "code",
   "execution_count": 43,
   "metadata": {},
   "outputs": [],
   "source": [
    "def f(x,a,m): return a+m*x"
   ]
  },
  {
   "cell_type": "code",
   "execution_count": 44,
   "metadata": {},
   "outputs": [
    {
     "data": {
      "text/plain": [
       "(array([1206.1448408 ,   13.70066141]), array([[1346.57620588,  -76.22129412],\n",
       "        [ -76.22129412,    5.8631764 ]]))"
      ]
     },
     "execution_count": 44,
     "metadata": {},
     "output_type": "execute_result"
    }
   ],
   "source": [
    "number_of_days=(max(gh.index)-min(gh.index)).days\n",
    "days_data = np.arange(0,len(gh))\n",
    "popt, pcov = scipy.optimize.curve_fit(f,days_data,np.array(gh))\n",
    "popt,pcov"
   ]
  },
  {
   "cell_type": "code",
   "execution_count": 45,
   "metadata": {},
   "outputs": [
    {
     "data": {
      "text/plain": [
       "[<matplotlib.lines.Line2D at 0x25334448320>]"
      ]
     },
     "execution_count": 45,
     "metadata": {},
     "output_type": "execute_result"
    },
    {
     "data": {
      "image/png": "[encoded data removed]",
      "text/plain": [
       "<Figure size 432x288 with 1 Axes>"
      ]
     },
     "metadata": {
      "needs_background": "light"
     },
     "output_type": "display_data"
    }
   ],
   "source": [
    "plt.plot(gh.index,np.array(gh),'.')\n",
    "plt.plot(gh.index, f(days_data, *popt))"
   ]
  },
  {
   "cell_type": "code",
   "execution_count": 46,
   "metadata": {},
   "outputs": [
    {
     "data": {
      "text/plain": [
       "[<matplotlib.lines.Line2D at 0x253343791d0>]"
      ]
     },
     "execution_count": 46,
     "metadata": {},
     "output_type": "execute_result"
    },
    {
     "data": {
      "image/png": "[encoded data removed]",
      "text/plain": [
       "<Figure size 432x288 with 1 Axes>"
      ]
     },
     "metadata": {
      "needs_background": "light"
     },
     "output_type": "display_data"
    }
   ],
   "source": [
    "plt.plot(gh.index, gh-f(days_data, *popt))"
   ]
  },
  {
   "cell_type": "code",
   "execution_count": null,
   "metadata": {},
   "outputs": [],
   "source": []
  },
  {
   "cell_type": "code",
   "execution_count": 47,
   "metadata": {},
   "outputs": [],
   "source": [
    "data = msp[msp['commodity']==common_commodity.pop()]"
   ]
  }
 ],
 "metadata": {
  "kernelspec": {
   "display_name": "Python 3",
   "language": "python",
   "name": "python3"
  },
  "language_info": {
   "codemirror_mode": {
    "name": "ipython",
    "version": 3
   },
   "file_extension": ".py",
   "mimetype": "text/x-python",
   "name": "python",
   "nbconvert_exporter": "python",
   "pygments_lexer": "ipython3",
   "version": "3.7.1"
  }
 },
 "nbformat": 4,
 "nbformat_minor": 2
}
